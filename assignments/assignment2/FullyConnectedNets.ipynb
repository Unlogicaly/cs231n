{
 "cells": [
  {
   "cell_type": "code",
   "execution_count": 2,
   "metadata": {
    "pycharm": {
     "name": "#%%\n"
    },
    "id": "tu4U2usX1rBL",
    "executionInfo": {
     "status": "ok",
     "timestamp": 1676108610773,
     "user_tz": -180,
     "elapsed": 5209,
     "user": {
      "displayName": "Виктор Дамарад",
      "userId": "15707559666895109667"
     }
    },
    "outputId": "df38114a-3283-4820-bb64-25847cf8c316",
    "colab": {
     "base_uri": "https://localhost:8080/"
    }
   },
   "outputs": [
    {
     "output_type": "stream",
     "name": "stdout",
     "text": [
      "Mounted at /content/drive\n",
      "/content/drive/My Drive/cs231n/git/cs231n/assignments/assignment2/cs231n/datasets\n",
      "/content\n"
     ]
    }
   ],
   "source": [
    "# this mounts your Google Drive to the Colab VM.\n",
    "from google.colab import drive\n",
    "drive.mount('/content/drive', force_remount=True)\n",
    "\n",
    "# enter the foldername in your Drive where you have saved the unzipped\n",
    "# assignment folder, e.g. 'cs231n/assignments/assignment3/'\n",
    "FOLDERNAME = 'cs231n/git/cs231n/assignments/assignment2'\n",
    "assert FOLDERNAME is not None, \"[!] Enter the foldername.\"\n",
    "\n",
    "# now that we've mounted your Drive, this ensures that\n",
    "# the Python interpreter of the Colab VM can load\n",
    "# python files from within it.\n",
    "import sys\n",
    "sys.path.append('/content/drive/My Drive/{}'.format(FOLDERNAME))\n",
    "\n",
    "# this downloads the CIFAR-10 dataset to your Drive\n",
    "# if it doesn't already exist.\n",
    "%cd drive/My\\ Drive/$FOLDERNAME/cs231n/datasets/\n",
    "!bash get_datasets.sh\n",
    "%cd /content"
   ]
  },
  {
   "cell_type": "markdown",
   "metadata": {
    "tags": [
     "pdf-title"
    ],
    "pycharm": {
     "name": "#%% md\n"
    },
    "id": "fomUv5FN1rBM"
   },
   "source": [
    "# Fully-Connected Neural Nets\n",
    "In the previous homework you implemented a fully-connected two-layer neural network on CIFAR-10. The implementation was simple but not very modular since the loss and gradient were computed in a single monolithic function. This is manageable for a simple two-layer network, but would become impractical as we move to bigger models. Ideally we want to build networks using a more modular design so that we can implement different layer types in isolation and then snap them together into models with different architectures."
   ]
  },
  {
   "cell_type": "markdown",
   "metadata": {
    "tags": [
     "pdf-ignore"
    ],
    "pycharm": {
     "name": "#%% md\n"
    },
    "id": "L69XaIDw1rBN"
   },
   "source": [
    "In this exercise we will implement fully-connected networks using a more modular approach. For each layer we will implement a `forward` and a `backward` function. The `forward` function will receive inputs, weights, and other parameters and will return both an output and a `cache` object storing data needed for the backward pass, like this:\n",
    "\n",
    "```python\n",
    "def layer_forward(x, w):\n",
    "  \"\"\" Receive inputs x and weights w \"\"\"\n",
    "  # Do some computations ...\n",
    "  z = # ... some intermediate value\n",
    "  # Do some more computations ...\n",
    "  out = # the output\n",
    "   \n",
    "  cache = (x, w, z, out) # Values we need to compute gradients\n",
    "   \n",
    "  return out, cache\n",
    "```\n",
    "\n",
    "The backward pass will receive upstream derivatives and the `cache` object, and will return gradients with respect to the inputs and weights, like this:\n",
    "\n",
    "```python\n",
    "def layer_backward(dout, cache):\n",
    "  \"\"\"\n",
    "  Receive dout (derivative of loss with respect to outputs) and cache,\n",
    "  and compute derivative with respect to inputs.\n",
    "  \"\"\"\n",
    "  # Unpack cache values\n",
    "  x, w, z, out = cache\n",
    "  \n",
    "  # Use values in cache to compute derivatives\n",
    "  dx = # Derivative of loss with respect to x\n",
    "  dw = # Derivative of loss with respect to w\n",
    "  \n",
    "  return dx, dw\n",
    "```\n",
    "\n",
    "After implementing a bunch of layers this way, we will be able to easily combine them to build classifiers with different architectures.\n",
    "\n",
    "In addition to implementing fully-connected networks of arbitrary depth, we will also explore different update rules for optimization, and introduce Dropout as a regularizer and Batch/Layer Normalization as a tool to more efficiently optimize deep networks.\n",
    "  "
   ]
  },
  {
   "cell_type": "code",
   "execution_count": 3,
   "metadata": {
    "tags": [
     "pdf-ignore"
    ],
    "pycharm": {
     "name": "#%%\n"
    },
    "id": "m8JP0Hhd1rBN",
    "colab": {
     "base_uri": "https://localhost:8080/"
    },
    "executionInfo": {
     "status": "ok",
     "timestamp": 1676108617993,
     "user_tz": -180,
     "elapsed": 2720,
     "user": {
      "displayName": "Виктор Дамарад",
      "userId": "15707559666895109667"
     }
    },
    "outputId": "087cf669-92f4-4d41-c547-8a0076791777"
   },
   "outputs": [
    {
     "output_type": "stream",
     "name": "stdout",
     "text": [
      "=========== You can safely ignore the message below if you are NOT working on ConvolutionalNetworks.ipynb ===========\n",
      "\tYou will need to compile a Cython extension for a portion of this assignment.\n",
      "\tThe instructions to do this will be given in a section of the notebook below.\n",
      "\tThere will be an option for Colab users and another for Jupyter (local) users.\n"
     ]
    }
   ],
   "source": [
    "# As usual, a bit of setup\n",
    "from __future__ import print_function\n",
    "import time\n",
    "import numpy as np\n",
    "import matplotlib.pyplot as plt\n",
    "from cs231n.classifiers.fc_net import *\n",
    "from cs231n.data_utils import get_CIFAR10_data\n",
    "from cs231n.gradient_check import eval_numerical_gradient, eval_numerical_gradient_array\n",
    "from cs231n.solver import Solver\n",
    "\n",
    "%matplotlib inline\n",
    "plt.rcParams['figure.figsize'] = (10.0, 8.0) # set default size of plots\n",
    "plt.rcParams['image.interpolation'] = 'nearest'\n",
    "plt.rcParams['image.cmap'] = 'gray'\n",
    "\n",
    "# for auto-reloading external modules\n",
    "# see http://stackoverflow.com/questions/1907993/autoreload-of-modules-in-ipython\n",
    "%load_ext autoreload\n",
    "%autoreload 2\n",
    "\n",
    "def rel_error(x, y):\n",
    "  \"\"\" returns relative error \"\"\"\n",
    "  return np.max(np.abs(x - y) / (np.maximum(1e-8, np.abs(x) + np.abs(y))))"
   ]
  },
  {
   "cell_type": "code",
   "execution_count": 4,
   "metadata": {
    "tags": [
     "pdf-ignore"
    ],
    "pycharm": {
     "name": "#%%\n"
    },
    "id": "_aFiTfzY1rBO",
    "colab": {
     "base_uri": "https://localhost:8080/"
    },
    "executionInfo": {
     "status": "ok",
     "timestamp": 1676108628579,
     "user_tz": -180,
     "elapsed": 10589,
     "user": {
      "displayName": "Виктор Дамарад",
      "userId": "15707559666895109667"
     }
    },
    "outputId": "7138035a-811f-4b92-bfd4-cada7e74a888"
   },
   "outputs": [
    {
     "output_type": "stream",
     "name": "stdout",
     "text": [
      "('X_train: ', (49000, 3, 32, 32))\n",
      "('y_train: ', (49000,))\n",
      "('X_val: ', (1000, 3, 32, 32))\n",
      "('y_val: ', (1000,))\n",
      "('X_test: ', (1000, 3, 32, 32))\n",
      "('y_test: ', (1000,))\n"
     ]
    }
   ],
   "source": [
    "# Load the (preprocessed) CIFAR10 data.\n",
    "\n",
    "data = get_CIFAR10_data()\n",
    "for k, v in list(data.items()):\n",
    "  print(('%s: ' % k, v.shape))"
   ]
  },
  {
   "cell_type": "markdown",
   "metadata": {
    "pycharm": {
     "name": "#%% md\n"
    },
    "id": "WGhxMThv1rBO"
   },
   "source": [
    "# Affine layer: forward\n",
    "Open the file `cs231n/layers.py` and implement the `affine_forward` function.\n",
    "\n",
    "Once you are done you can test your implementaion by running the following:"
   ]
  },
  {
   "cell_type": "code",
   "execution_count": 5,
   "metadata": {
    "pycharm": {
     "name": "#%%\n"
    },
    "id": "y8VeX9T21rBO",
    "colab": {
     "base_uri": "https://localhost:8080/"
    },
    "executionInfo": {
     "status": "ok",
     "timestamp": 1676108628579,
     "user_tz": -180,
     "elapsed": 9,
     "user": {
      "displayName": "Виктор Дамарад",
      "userId": "15707559666895109667"
     }
    },
    "outputId": "048cc394-3d2e-4018-b56a-9f912e6d1c03"
   },
   "outputs": [
    {
     "output_type": "stream",
     "name": "stdout",
     "text": [
      "Testing affine_forward function:\n",
      "difference:  9.769849468192957e-10\n"
     ]
    }
   ],
   "source": [
    "# Test the affine_forward function\n",
    "\n",
    "num_inputs = 2\n",
    "input_shape = (4, 5, 6)\n",
    "output_dim = 3\n",
    "\n",
    "input_size = num_inputs * np.prod(input_shape)\n",
    "weight_size = output_dim * np.prod(input_shape)\n",
    "\n",
    "x = np.linspace(-0.1, 0.5, num=input_size).reshape(num_inputs, *input_shape)\n",
    "w = np.linspace(-0.2, 0.3, num=weight_size).reshape(np.prod(input_shape), output_dim)\n",
    "b = np.linspace(-0.3, 0.1, num=output_dim)\n",
    "\n",
    "out, _ = affine_forward(x, w, b)\n",
    "correct_out = np.array([[ 1.49834967,  1.70660132,  1.91485297],\n",
    "                        [ 3.25553199,  3.5141327,   3.77273342]])\n",
    "\n",
    "# Compare your output with ours. The error should be around e-9 or less.\n",
    "print('Testing affine_forward function:')\n",
    "print('difference: ', rel_error(out, correct_out))"
   ]
  },
  {
   "cell_type": "markdown",
   "metadata": {
    "pycharm": {
     "name": "#%% md\n"
    },
    "id": "b9pGsfWy1rBO"
   },
   "source": [
    "# Affine layer: backward\n",
    "Now implement the `affine_backward` function and test your implementation using numeric gradient checking."
   ]
  },
  {
   "cell_type": "code",
   "execution_count": 6,
   "metadata": {
    "pycharm": {
     "name": "#%%\n"
    },
    "id": "qM0b8Wba1rBO",
    "colab": {
     "base_uri": "https://localhost:8080/"
    },
    "executionInfo": {
     "status": "ok",
     "timestamp": 1676108636283,
     "user_tz": -180,
     "elapsed": 270,
     "user": {
      "displayName": "Виктор Дамарад",
      "userId": "15707559666895109667"
     }
    },
    "outputId": "1a144541-2b52-45bd-8c28-2dc62346c5c3"
   },
   "outputs": [
    {
     "output_type": "stream",
     "name": "stdout",
     "text": [
      "Testing affine_backward function:\n",
      "dx error:  5.399100368651805e-11\n",
      "dw error:  9.904211865398145e-11\n",
      "db error:  2.4122867568119087e-11\n"
     ]
    }
   ],
   "source": [
    "# Test the affine_backward function\n",
    "np.random.seed(231)\n",
    "x = np.random.randn(10, 2, 3)\n",
    "w = np.random.randn(6, 5)\n",
    "b = np.random.randn(5)\n",
    "dout = np.random.randn(10, 5)\n",
    "\n",
    "dx_num = eval_numerical_gradient_array(lambda x: affine_forward(x, w, b)[0], x, dout)\n",
    "dw_num = eval_numerical_gradient_array(lambda w: affine_forward(x, w, b)[0], w, dout)\n",
    "db_num = eval_numerical_gradient_array(lambda b: affine_forward(x, w, b)[0], b, dout)\n",
    "\n",
    "_, cache = affine_forward(x, w, b)\n",
    "dx, dw, db = affine_backward(dout, cache)\n",
    "\n",
    "# The error should be around e-10 or less\n",
    "print('Testing affine_backward function:')\n",
    "print('dx error: ', rel_error(dx_num, dx))\n",
    "print('dw error: ', rel_error(dw_num, dw))\n",
    "print('db error: ', rel_error(db_num, db))"
   ]
  },
  {
   "cell_type": "markdown",
   "metadata": {
    "pycharm": {
     "name": "#%% md\n"
    },
    "id": "sD8qHxSj1rBP"
   },
   "source": [
    "# ReLU activation: forward\n",
    "Implement the forward pass for the ReLU activation function in the `relu_forward` function and test your implementation using the following:"
   ]
  },
  {
   "cell_type": "code",
   "execution_count": 7,
   "metadata": {
    "pycharm": {
     "name": "#%%\n"
    },
    "id": "tCE3o3FY1rBP",
    "colab": {
     "base_uri": "https://localhost:8080/"
    },
    "executionInfo": {
     "status": "ok",
     "timestamp": 1676108638221,
     "user_tz": -180,
     "elapsed": 2,
     "user": {
      "displayName": "Виктор Дамарад",
      "userId": "15707559666895109667"
     }
    },
    "outputId": "9f74611f-db5c-47b4-db36-4feb843f7736"
   },
   "outputs": [
    {
     "output_type": "stream",
     "name": "stdout",
     "text": [
      "Testing relu_forward function:\n",
      "difference:  4.999999798022158e-08\n"
     ]
    }
   ],
   "source": [
    "# Test the relu_forward function\n",
    "\n",
    "x = np.linspace(-0.5, 0.5, num=12).reshape(3, 4)\n",
    "\n",
    "out, _ = relu_forward(x)\n",
    "correct_out = np.array([[ 0.,          0.,          0.,          0.,        ],\n",
    "                        [ 0.,          0.,          0.04545455,  0.13636364,],\n",
    "                        [ 0.22727273,  0.31818182,  0.40909091,  0.5,       ]])\n",
    "\n",
    "# Compare your output with ours. The error should be on the order of e-8\n",
    "print('Testing relu_forward function:')\n",
    "print('difference: ', rel_error(out, correct_out))"
   ]
  },
  {
   "cell_type": "markdown",
   "metadata": {
    "pycharm": {
     "name": "#%% md\n"
    },
    "id": "8aa3qYuY1rBP"
   },
   "source": [
    "# ReLU activation: backward\n",
    "Now implement the backward pass for the ReLU activation function in the `relu_backward` function and test your implementation using numeric gradient checking:"
   ]
  },
  {
   "cell_type": "code",
   "execution_count": 8,
   "metadata": {
    "pycharm": {
     "name": "#%%\n"
    },
    "id": "DcuK1-gk1rBP",
    "colab": {
     "base_uri": "https://localhost:8080/"
    },
    "executionInfo": {
     "status": "ok",
     "timestamp": 1676108640233,
     "user_tz": -180,
     "elapsed": 246,
     "user": {
      "displayName": "Виктор Дамарад",
      "userId": "15707559666895109667"
     }
    },
    "outputId": "288e5cbf-32c8-49b8-f712-fadfb5640a6f"
   },
   "outputs": [
    {
     "output_type": "stream",
     "name": "stdout",
     "text": [
      "Testing relu_backward function:\n",
      "dx error:  3.2756349136310288e-12\n"
     ]
    }
   ],
   "source": [
    "np.random.seed(231)\n",
    "x = np.random.randn(10, 10)\n",
    "dout = np.random.randn(*x.shape)\n",
    "\n",
    "dx_num = eval_numerical_gradient_array(lambda x: relu_forward(x)[0], x, dout)\n",
    "\n",
    "_, cache = relu_forward(x)\n",
    "dx = relu_backward(dout, cache)\n",
    "\n",
    "# The error should be on the order of e-12\n",
    "print('Testing relu_backward function:')\n",
    "print('dx error: ', rel_error(dx_num, dx))"
   ]
  },
  {
   "cell_type": "markdown",
   "metadata": {
    "tags": [
     "pdf-inline"
    ],
    "pycharm": {
     "name": "#%% md\n"
    },
    "id": "a2geNl8u1rBP"
   },
   "source": [
    "## Inline Question 1: \n",
    "\n",
    "We've only asked you to implement ReLU, but there are a number of different activation functions that one could use in neural networks, each with its pros and cons. In particular, an issue commonly seen with activation functions is getting zero (or close to zero) gradient flow during backpropagation. Which of the following activation functions have this problem? If you consider these functions in the one dimensional case, what types of input would lead to this behaviour?\n",
    "1. Sigmoid\n",
    "2. ReLU\n",
    "3. Leaky ReLU\n",
    "\n",
    "## Answer:\n",
    "1. Yes, input with bug absolute value lead to vanishing gradient, because sigmoid is almost flat on its 'tails'\n",
    "2. Yes, all inputs below zero lead to zeroing gradient, because relu's outpu is constant zero on negative inputs\n",
    "3. No, leaky relu doesn't lead to zeroing gradient\n"
   ]
  },
  {
   "cell_type": "markdown",
   "metadata": {
    "pycharm": {
     "name": "#%% md\n"
    },
    "id": "ggO6seLb1rBP"
   },
   "source": [
    "# \"Sandwich\" layers\n",
    "There are some common patterns of layers that are frequently used in neural nets. For example, affine layers are frequently followed by a ReLU nonlinearity. To make these common patterns easy, we define several convenience layers in the file `cs231n/layer_utils.py`.\n",
    "\n",
    "For now take a look at the `affine_relu_forward` and `affine_relu_backward` functions, and run the following to numerically gradient check the backward pass:"
   ]
  },
  {
   "cell_type": "code",
   "execution_count": 9,
   "metadata": {
    "pycharm": {
     "name": "#%%\n"
    },
    "id": "LcT53YtW1rBP",
    "colab": {
     "base_uri": "https://localhost:8080/"
    },
    "executionInfo": {
     "status": "ok",
     "timestamp": 1676108959720,
     "user_tz": -180,
     "elapsed": 4,
     "user": {
      "displayName": "Виктор Дамарад",
      "userId": "15707559666895109667"
     }
    },
    "outputId": "0680a167-4706-4c4d-86ca-09a736e272b9"
   },
   "outputs": [
    {
     "output_type": "stream",
     "name": "stdout",
     "text": [
      "Testing affine_relu_forward and affine_relu_backward:\n",
      "dx error:  2.299579177309368e-11\n",
      "dw error:  8.162011105764925e-11\n",
      "db error:  7.826724021458994e-12\n"
     ]
    }
   ],
   "source": [
    "from cs231n.layer_utils import affine_relu_forward, affine_relu_backward\n",
    "np.random.seed(231)\n",
    "x = np.random.randn(2, 3, 4)\n",
    "w = np.random.randn(12, 10)\n",
    "b = np.random.randn(10)\n",
    "dout = np.random.randn(2, 10)\n",
    "\n",
    "out, cache = affine_relu_forward(x, w, b)\n",
    "dx, dw, db = affine_relu_backward(dout, cache)\n",
    "\n",
    "dx_num = eval_numerical_gradient_array(lambda x: affine_relu_forward(x, w, b)[0], x, dout)\n",
    "dw_num = eval_numerical_gradient_array(lambda w: affine_relu_forward(x, w, b)[0], w, dout)\n",
    "db_num = eval_numerical_gradient_array(lambda b: affine_relu_forward(x, w, b)[0], b, dout)\n",
    "\n",
    "# Relative error should be around e-10 or less\n",
    "print('Testing affine_relu_forward and affine_relu_backward:')\n",
    "print('dx error: ', rel_error(dx_num, dx))\n",
    "print('dw error: ', rel_error(dw_num, dw))\n",
    "print('db error: ', rel_error(db_num, db))"
   ]
  },
  {
   "cell_type": "markdown",
   "metadata": {
    "pycharm": {
     "name": "#%% md\n"
    },
    "id": "1VA9Yam-1rBQ"
   },
   "source": [
    "# Loss layers: Softmax and SVM\n",
    "You implemented these loss functions in the last assignment, so we'll give them to you for free here. You should still make sure you understand how they work by looking at the implementations in `cs231n/layers.py`.\n",
    "\n",
    "You can make sure that the implementations are correct by running the following:"
   ]
  },
  {
   "cell_type": "code",
   "execution_count": 10,
   "metadata": {
    "pycharm": {
     "name": "#%%\n"
    },
    "id": "3tIiB_qL1rBQ",
    "colab": {
     "base_uri": "https://localhost:8080/"
    },
    "executionInfo": {
     "status": "ok",
     "timestamp": 1676108964861,
     "user_tz": -180,
     "elapsed": 249,
     "user": {
      "displayName": "Виктор Дамарад",
      "userId": "15707559666895109667"
     }
    },
    "outputId": "59713278-8378-44c3-c0ce-d928dec6df55"
   },
   "outputs": [
    {
     "output_type": "stream",
     "name": "stdout",
     "text": [
      "Testing svm_loss:\n",
      "loss:  8.999602749096233\n",
      "dx error:  1.4021566006651672e-09\n",
      "\n",
      "Testing softmax_loss:\n",
      "loss:  2.302545844500738\n",
      "dx error:  9.384673161989355e-09\n"
     ]
    }
   ],
   "source": [
    "np.random.seed(231)\n",
    "num_classes, num_inputs = 10, 50\n",
    "x = 0.001 * np.random.randn(num_inputs, num_classes)\n",
    "y = np.random.randint(num_classes, size=num_inputs)\n",
    "\n",
    "dx_num = eval_numerical_gradient(lambda x: svm_loss(x, y)[0], x, verbose=False)\n",
    "loss, dx = svm_loss(x, y)\n",
    "\n",
    "# Test svm_loss function. Loss should be around 9 and dx error should be around the order of e-9\n",
    "print('Testing svm_loss:')\n",
    "print('loss: ', loss)\n",
    "print('dx error: ', rel_error(dx_num, dx))\n",
    "\n",
    "dx_num = eval_numerical_gradient(lambda x: softmax_loss(x, y)[0], x, verbose=False)\n",
    "loss, dx = softmax_loss(x, y)\n",
    "\n",
    "# Test softmax_loss function. Loss should be close to 2.3 and dx error should be around e-8\n",
    "print('\\nTesting softmax_loss:')\n",
    "print('loss: ', loss)\n",
    "print('dx error: ', rel_error(dx_num, dx))"
   ]
  },
  {
   "cell_type": "markdown",
   "metadata": {
    "pycharm": {
     "name": "#%% md\n"
    },
    "id": "TtNiXwMX1rBQ"
   },
   "source": [
    "# Two-layer network\n",
    "In the previous assignment you implemented a two-layer neural network in a single monolithic class. Now that you have implemented modular versions of the necessary layers, you will reimplement the two layer network using these modular implementations.\n",
    "\n",
    "Open the file `cs231n/classifiers/fc_net.py` and complete the implementation of the `TwoLayerNet` class. This class will serve as a model for the other networks you will implement in this assignment, so read through it to make sure you understand the API. You can run the cell below to test your implementation."
   ]
  },
  {
   "cell_type": "code",
   "execution_count": 11,
   "metadata": {
    "pycharm": {
     "name": "#%%\n"
    },
    "id": "dkLW0cac1rBQ",
    "colab": {
     "base_uri": "https://localhost:8080/"
    },
    "executionInfo": {
     "status": "ok",
     "timestamp": 1676108970793,
     "user_tz": -180,
     "elapsed": 649,
     "user": {
      "displayName": "Виктор Дамарад",
      "userId": "15707559666895109667"
     }
    },
    "outputId": "40506c07-2f00-4a4e-ab30-9755f9e01951"
   },
   "outputs": [
    {
     "output_type": "stream",
     "name": "stdout",
     "text": [
      "Testing initialization ... \n",
      "Testing test-time forward pass ... \n",
      "Testing training loss (no regularization)\n",
      "Running numeric gradient check with reg =  0.0\n",
      "W1 relative error: 1.83e-08\n",
      "W2 relative error: 3.12e-10\n",
      "b1 relative error: 9.83e-09\n",
      "b2 relative error: 4.33e-10\n",
      "Running numeric gradient check with reg =  0.7\n",
      "W1 relative error: 2.53e-07\n",
      "W2 relative error: 2.85e-08\n",
      "b1 relative error: 1.56e-08\n",
      "b2 relative error: 7.76e-10\n"
     ]
    }
   ],
   "source": [
    "np.random.seed(231)\n",
    "N, D, H, C = 3, 5, 50, 7\n",
    "X = np.random.randn(N, D)\n",
    "y = np.random.randint(C, size=N)\n",
    "\n",
    "std = 1e-3\n",
    "model = TwoLayerNet(input_dim=D, hidden_dim=H, num_classes=C, weight_scale=std)\n",
    "\n",
    "print('Testing initialization ... ')\n",
    "W1_std = abs(model.params['W1'].std() - std)\n",
    "b1 = model.params['b1']\n",
    "W2_std = abs(model.params['W2'].std() - std)\n",
    "b2 = model.params['b2']\n",
    "assert W1_std < std / 10, 'First layer weights do not seem right'\n",
    "assert np.all(b1 == 0), 'First layer biases do not seem right'\n",
    "assert W2_std < std / 10, 'Second layer weights do not seem right'\n",
    "assert np.all(b2 == 0), 'Second layer biases do not seem right'\n",
    "\n",
    "print('Testing test-time forward pass ... ')\n",
    "model.params['W1'] = np.linspace(-0.7, 0.3, num=D*H).reshape(D, H)\n",
    "model.params['b1'] = np.linspace(-0.1, 0.9, num=H)\n",
    "model.params['W2'] = np.linspace(-0.3, 0.4, num=H*C).reshape(H, C)\n",
    "model.params['b2'] = np.linspace(-0.9, 0.1, num=C)\n",
    "X = np.linspace(-5.5, 4.5, num=N*D).reshape(D, N).T\n",
    "scores = model.loss(X)\n",
    "correct_scores = np.asarray(\n",
    "  [[11.53165108,  12.2917344,   13.05181771,  13.81190102,  14.57198434, 15.33206765,  16.09215096],\n",
    "   [12.05769098,  12.74614105,  13.43459113,  14.1230412,   14.81149128, 15.49994135,  16.18839143],\n",
    "   [12.58373087,  13.20054771,  13.81736455,  14.43418138,  15.05099822, 15.66781506,  16.2846319 ]])\n",
    "scores_diff = np.abs(scores - correct_scores).sum()\n",
    "assert scores_diff < 1e-6, 'Problem with test-time forward pass'\n",
    "\n",
    "print('Testing training loss (no regularization)')\n",
    "y = np.asarray([0, 5, 1])\n",
    "loss, grads = model.loss(X, y)\n",
    "correct_loss = 3.4702243556\n",
    "assert abs(loss - correct_loss) < 1e-10, 'Problem with training-time loss'\n",
    "\n",
    "model.reg = 1.0\n",
    "loss, grads = model.loss(X, y)\n",
    "correct_loss = 26.5948426952\n",
    "assert abs(loss - correct_loss) < 1e-10, 'Problem with regularization loss'\n",
    "\n",
    "# Errors should be around e-7 or less\n",
    "for reg in [0.0, 0.7]:\n",
    "  print('Running numeric gradient check with reg = ', reg)\n",
    "  model.reg = reg\n",
    "  loss, grads = model.loss(X, y)\n",
    "\n",
    "  for name in sorted(grads):\n",
    "    f = lambda _: model.loss(X, y)[0]\n",
    "    grad_num = eval_numerical_gradient(f, model.params[name], verbose=False)\n",
    "    print('%s relative error: %.2e' % (name, rel_error(grad_num, grads[name])))"
   ]
  },
  {
   "cell_type": "markdown",
   "metadata": {
    "pycharm": {
     "name": "#%% md\n"
    },
    "id": "vz476IKB1rBQ"
   },
   "source": [
    "# Solver\n",
    "In the previous assignment, the logic for training models was coupled to the models themselves. Following a more modular design, for this assignment we have split the logic for training models into a separate class.\n",
    "\n",
    "Open the file `cs231n/solver.py` and read through it to familiarize yourself with the API. After doing so, use a `Solver` instance to train a `TwoLayerNet` that achieves at least `50%` accuracy on the validation set."
   ]
  },
  {
   "cell_type": "code",
   "execution_count": 17,
   "metadata": {
    "id": "tln_solver_accuracy",
    "pycharm": {
     "name": "#%%\n"
    },
    "colab": {
     "base_uri": "https://localhost:8080/"
    },
    "executionInfo": {
     "status": "ok",
     "timestamp": 1676109738645,
     "user_tz": -180,
     "elapsed": 75160,
     "user": {
      "displayName": "Виктор Дамарад",
      "userId": "15707559666895109667"
     }
    },
    "outputId": "ceff5df2-5fb1-477c-fb0d-06ebe86f3c30"
   },
   "outputs": [
    {
     "output_type": "stream",
     "name": "stdout",
     "text": [
      "(Iteration 1 / 3820) loss: 2.299179\n",
      "(Epoch 0 / 10) train acc: 0.207000; val_acc: 0.183000\n",
      "(Iteration 129 / 3820) loss: 1.599957\n",
      "(Iteration 257 / 3820) loss: 1.612436\n",
      "(Epoch 1 / 10) train acc: 0.447000; val_acc: 0.450000\n",
      "(Iteration 385 / 3820) loss: 1.425837\n",
      "(Iteration 513 / 3820) loss: 1.528783\n",
      "(Iteration 641 / 3820) loss: 1.561316\n",
      "(Epoch 2 / 10) train acc: 0.505000; val_acc: 0.507000\n",
      "(Iteration 769 / 3820) loss: 1.494757\n",
      "(Iteration 897 / 3820) loss: 1.559949\n",
      "(Iteration 1025 / 3820) loss: 1.381259\n",
      "(Epoch 3 / 10) train acc: 0.504000; val_acc: 0.451000\n",
      "(Iteration 1153 / 3820) loss: 1.469958\n",
      "(Iteration 1281 / 3820) loss: 1.341462\n",
      "(Iteration 1409 / 3820) loss: 1.686447\n",
      "(Epoch 4 / 10) train acc: 0.528000; val_acc: 0.512000\n",
      "(Iteration 1537 / 3820) loss: 1.623019\n",
      "(Iteration 1665 / 3820) loss: 1.517990\n",
      "(Iteration 1793 / 3820) loss: 1.455810\n",
      "(Epoch 5 / 10) train acc: 0.547000; val_acc: 0.509000\n",
      "(Iteration 1921 / 3820) loss: 1.306675\n",
      "(Iteration 2049 / 3820) loss: 1.140585\n",
      "(Iteration 2177 / 3820) loss: 1.282031\n",
      "(Epoch 6 / 10) train acc: 0.533000; val_acc: 0.505000\n",
      "(Iteration 2305 / 3820) loss: 1.185272\n",
      "(Iteration 2433 / 3820) loss: 1.309597\n",
      "(Iteration 2561 / 3820) loss: 1.087331\n",
      "(Epoch 7 / 10) train acc: 0.587000; val_acc: 0.484000\n",
      "(Iteration 2689 / 3820) loss: 1.153694\n",
      "(Iteration 2817 / 3820) loss: 1.083267\n",
      "(Iteration 2945 / 3820) loss: 1.071373\n",
      "(Epoch 8 / 10) train acc: 0.567000; val_acc: 0.511000\n",
      "(Iteration 3073 / 3820) loss: 1.228897\n",
      "(Iteration 3201 / 3820) loss: 1.392966\n",
      "(Iteration 3329 / 3820) loss: 1.206411\n",
      "(Epoch 9 / 10) train acc: 0.604000; val_acc: 0.506000\n",
      "(Iteration 3457 / 3820) loss: 0.972629\n",
      "(Iteration 3585 / 3820) loss: 1.128856\n",
      "(Iteration 3713 / 3820) loss: 1.205848\n",
      "(Epoch 10 / 10) train acc: 0.633000; val_acc: 0.510000\n"
     ]
    }
   ],
   "source": [
    "model = TwoLayerNet()\n",
    "solver = None\n",
    "\n",
    "##############################################################################\n",
    "# TODO: Use a Solver instance to train a TwoLayerNet that achieves at least  #\n",
    "# 50% accuracy on the validation set.                                        #\n",
    "##############################################################################\n",
    "# *****START OF YOUR CODE (DO NOT DELETE/MODIFY THIS LINE)*****\n",
    "\n",
    "solver = Solver(model, data, update_rule='adam', \n",
    "                optim_config={'learning_rate': 3e-4},\n",
    "                num_epochs=10, batch_size=128, print_every=128, lr_decay=0.95)\n",
    "\n",
    "solver.train()\n",
    "\n",
    "# *****END OF YOUR CODE (DO NOT DELETE/MODIFY THIS LINE)*****\n",
    "##############################################################################\n",
    "#                             END OF YOUR CODE                               #\n",
    "##############################################################################"
   ]
  },
  {
   "cell_type": "code",
   "execution_count": 18,
   "metadata": {
    "pycharm": {
     "name": "#%%\n"
    },
    "id": "9J-zaYwR1rBQ",
    "colab": {
     "base_uri": "https://localhost:8080/",
     "height": 730
    },
    "executionInfo": {
     "status": "ok",
     "timestamp": 1676109748677,
     "user_tz": -180,
     "elapsed": 715,
     "user": {
      "displayName": "Виктор Дамарад",
      "userId": "15707559666895109667"
     }
    },
    "outputId": "1bb42f71-3bbe-4d62-c635-9170e95d051a"
   },
   "outputs": [
    {
     "output_type": "display_data",
     "data": {
      "text/plain": [
       "<Figure size 1080x864 with 2 Axes>"
      ],
      "image/png": "[encoded data removed]"
     },
     "metadata": {
      "needs_background": "light"
     }
    }
   ],
   "source": [
    "# Run this cell to visualize training loss and train / val accuracy\n",
    "\n",
    "plt.subplot(2, 1, 1)\n",
    "plt.title('Training loss')\n",
    "plt.plot(solver.loss_history, 'o')\n",
    "plt.xlabel('Iteration')\n",
    "\n",
    "plt.subplot(2, 1, 2)\n",
    "plt.title('Accuracy')\n",
    "plt.plot(solver.train_acc_history, '-o', label='train')\n",
    "plt.plot(solver.val_acc_history, '-o', label='val')\n",
    "plt.plot([0.5] * len(solver.val_acc_history), 'k--')\n",
    "plt.xlabel('Epoch')\n",
    "plt.legend(loc='lower right')\n",
    "plt.gcf().set_size_inches(15, 12)\n",
    "plt.show()"
   ]
  },
  {
   "cell_type": "markdown",
   "metadata": {
    "pycharm": {
     "name": "#%% md\n"
    },
    "id": "KM12TdjE1rBR"
   },
   "source": [
    "# Multilayer network\n",
    "Next you will implement a fully-connected network with an arbitrary number of hidden layers.\n",
    "\n",
    "Read through the `FullyConnectedNet` class in the file `cs231n/classifiers/fc_net.py`.\n",
    "\n",
    "Implement the initialization, the forward pass, and the backward pass. For the moment don't worry about implementing dropout or batch/layer normalization; we will add those features soon."
   ]
  },
  {
   "cell_type": "markdown",
   "metadata": {
    "pycharm": {
     "name": "#%% md\n"
    },
    "id": "DBPneCBe1rBR"
   },
   "source": [
    "## Initial loss and gradient check\n",
    "\n",
    "As a sanity check, run the following to check the initial loss and to gradient check the network both with and without regularization. Do the initial losses seem reasonable?\n",
    "\n",
    "For gradient checking, you should expect to see errors around 1e-7 or less."
   ]
  },
  {
   "cell_type": "code",
   "execution_count": 19,
   "metadata": {
    "pycharm": {
     "name": "#%%\n"
    },
    "id": "-0H3B0nl1rBR",
    "colab": {
     "base_uri": "https://localhost:8080/"
    },
    "executionInfo": {
     "status": "ok",
     "timestamp": 1676109770820,
     "user_tz": -180,
     "elapsed": 885,
     "user": {
      "displayName": "Виктор Дамарад",
      "userId": "15707559666895109667"
     }
    },
    "outputId": "3e83f55c-55c8-43c1-e34b-cba1ac1b875e"
   },
   "outputs": [
    {
     "output_type": "stream",
     "name": "stdout",
     "text": [
      "Running check with reg =  0\n",
      "Initial loss:  2.3004790897684924\n",
      "W1 relative error: 1.48e-07\n",
      "W2 relative error: 2.21e-05\n",
      "W3 relative error: 3.53e-07\n",
      "b1 relative error: 5.38e-09\n",
      "b2 relative error: 2.09e-09\n",
      "b3 relative error: 5.80e-11\n",
      "Running check with reg =  3.14\n",
      "Initial loss:  9.579174755049618\n",
      "W1 relative error: 6.80e-08\n",
      "W2 relative error: 7.04e-08\n",
      "W3 relative error: 4.84e-07\n",
      "b1 relative error: 1.48e-08\n",
      "b2 relative error: 3.68e-09\n",
      "b3 relative error: 2.90e-10\n"
     ]
    }
   ],
   "source": [
    "np.random.seed(231)\n",
    "N, D, H1, H2, C = 2, 15, 20, 30, 10\n",
    "X = np.random.randn(N, D)\n",
    "y = np.random.randint(C, size=(N,))\n",
    "\n",
    "for reg in [0, 3.14]:\n",
    "  print('Running check with reg = ', reg)\n",
    "  model = FullyConnectedNet([H1, H2], input_dim=D, num_classes=C,\n",
    "                            reg=reg, weight_scale=5e-2, dtype=np.float64)\n",
    "\n",
    "  loss, grads = model.loss(X, y)\n",
    "  print('Initial loss: ', loss)\n",
    "  \n",
    "  # Most of the errors should be on the order of e-7 or smaller.   \n",
    "  # NOTE: It is fine however to see an error for W2 on the order of e-5\n",
    "  # for the check when reg = 0.0\n",
    "  for name in sorted(grads):\n",
    "    f = lambda _: model.loss(X, y)[0]\n",
    "    grad_num = eval_numerical_gradient(f, model.params[name], verbose=False, h=1e-5)\n",
    "    print('%s relative error: %.2e' % (name, rel_error(grad_num, grads[name])))"
   ]
  },
  {
   "cell_type": "markdown",
   "metadata": {
    "pycharm": {
     "name": "#%% md\n"
    },
    "id": "XJ8DTXWW1rBR"
   },
   "source": [
    "As another sanity check, make sure you can overfit a small dataset of 50 images. First we will try a three-layer network with 100 units in each hidden layer. In the following cell, tweak the **learning rate** and **weight initialization scale** to overfit and achieve 100% training accuracy within 20 epochs."
   ]
  },
  {
   "cell_type": "code",
   "execution_count": 104,
   "metadata": {
    "scrolled": false,
    "pycharm": {
     "name": "#%%\n"
    },
    "id": "wPeDI-bw1rBR",
    "colab": {
     "base_uri": "https://localhost:8080/",
     "height": 947
    },
    "executionInfo": {
     "status": "ok",
     "timestamp": 1676110504810,
     "user_tz": -180,
     "elapsed": 1802,
     "user": {
      "displayName": "Виктор Дамарад",
      "userId": "15707559666895109667"
     }
    },
    "outputId": "6abfb48f-8d94-4b18-ec09-1f242dfa7dad"
   },
   "outputs": [
    {
     "output_type": "stream",
     "name": "stdout",
     "text": [
      "(Iteration 1 / 40) loss: 42644.646409\n",
      "(Epoch 0 / 20) train acc: 0.200000; val_acc: 0.081000\n",
      "(Epoch 1 / 20) train acc: 0.220000; val_acc: 0.152000\n",
      "(Epoch 2 / 20) train acc: 0.220000; val_acc: 0.132000\n",
      "(Epoch 3 / 20) train acc: 0.320000; val_acc: 0.106000\n",
      "(Epoch 4 / 20) train acc: 0.480000; val_acc: 0.126000\n",
      "(Epoch 5 / 20) train acc: 0.480000; val_acc: 0.112000\n",
      "(Iteration 11 / 40) loss: 3613.656362\n",
      "(Epoch 6 / 20) train acc: 0.560000; val_acc: 0.114000\n",
      "(Epoch 7 / 20) train acc: 0.600000; val_acc: 0.121000\n",
      "(Epoch 8 / 20) train acc: 0.700000; val_acc: 0.126000\n",
      "(Epoch 9 / 20) train acc: 0.660000; val_acc: 0.131000\n",
      "(Epoch 10 / 20) train acc: 0.680000; val_acc: 0.131000\n",
      "(Iteration 21 / 40) loss: 0.552577\n",
      "(Epoch 11 / 20) train acc: 0.700000; val_acc: 0.134000\n",
      "(Epoch 12 / 20) train acc: 0.680000; val_acc: 0.131000\n",
      "(Epoch 13 / 20) train acc: 0.700000; val_acc: 0.132000\n",
      "(Epoch 14 / 20) train acc: 0.700000; val_acc: 0.132000\n",
      "(Epoch 15 / 20) train acc: 0.700000; val_acc: 0.132000\n",
      "(Iteration 31 / 40) loss: 0.736746\n",
      "(Epoch 16 / 20) train acc: 0.700000; val_acc: 0.132000\n",
      "(Epoch 17 / 20) train acc: 0.700000; val_acc: 0.132000\n",
      "(Epoch 18 / 20) train acc: 0.700000; val_acc: 0.132000\n",
      "(Epoch 19 / 20) train acc: 0.700000; val_acc: 0.132000\n",
      "(Epoch 20 / 20) train acc: 0.700000; val_acc: 0.132000\n"
     ]
    },
    {
     "output_type": "display_data",
     "data": {
      "text/plain": [
       "<Figure size 720x576 with 1 Axes>"
      ],
      "image/png": "[encoded data removed]"
     },
     "metadata": {
      "needs_background": "light"
     }
    }
   ],
   "source": [
    "# TODO: Use a three-layer Net to overfit 50 training examples by \n",
    "# tweaking just the learning rate and initialization scale.\n",
    "\n",
    "num_train = 50\n",
    "small_data = {\n",
    "  'X_train': data['X_train'][:num_train],\n",
    "  'y_train': data['y_train'][:num_train],\n",
    "  'X_val': data['X_val'],\n",
    "  'y_val': data['y_val'],\n",
    "}\n",
    "\n",
    "weight_scale = 5e-1   # Experiment with this!\n",
    "learning_rate = 5e-4  # Experiment with this!\n",
    "model = FullyConnectedNet([100, 100],\n",
    "              weight_scale=weight_scale, dtype=np.float64)\n",
    "solver = Solver(model, small_data,\n",
    "                print_every=10, num_epochs=20, batch_size=25,\n",
    "                update_rule='sgd',\n",
    "                optim_config={\n",
    "                  'learning_rate': learning_rate,\n",
    "                }\n",
    "         )\n",
    "solver.train()\n",
    "\n",
    "plt.plot(solver.loss_history, 'o')\n",
    "plt.title('Training loss history')\n",
    "plt.xlabel('Iteration')\n",
    "plt.ylabel('Training loss')\n",
    "plt.show()"
   ]
  },
  {
   "cell_type": "markdown",
   "metadata": {
    "pycharm": {
     "name": "#%% md\n"
    },
    "id": "Hi77uDUe1rBR"
   },
   "source": [
    "Now try to use a five-layer network with 100 units on each layer to overfit 50 training examples. Again, you will have to adjust the learning rate and weight initialization scale, but you should be able to achieve 100% training accuracy within 20 epochs."
   ]
  },
  {
   "cell_type": "code",
   "execution_count": 107,
   "metadata": {
    "pycharm": {
     "name": "#%%\n"
    },
    "id": "fzygNKCc1rBR",
    "colab": {
     "base_uri": "https://localhost:8080/",
     "height": 1000
    },
    "executionInfo": {
     "status": "ok",
     "timestamp": 1676110530603,
     "user_tz": -180,
     "elapsed": 2090,
     "user": {
      "displayName": "Виктор Дамарад",
      "userId": "15707559666895109667"
     }
    },
    "outputId": "bd4cfb84-dd06-4e5a-9d61-c0c62822d9f4"
   },
   "outputs": [
    {
     "output_type": "stream",
     "name": "stdout",
     "text": [
      "(Iteration 1 / 40) loss: 4586.272426\n",
      "(Epoch 0 / 20) train acc: 0.120000; val_acc: 0.119000\n",
      "(Epoch 1 / 20) train acc: 0.100000; val_acc: 0.100000\n",
      "(Epoch 2 / 20) train acc: 0.080000; val_acc: 0.087000\n",
      "(Epoch 3 / 20) train acc: 0.120000; val_acc: 0.119000\n",
      "(Epoch 4 / 20) train acc: 0.160000; val_acc: 0.112000\n",
      "(Epoch 5 / 20) train acc: 0.120000; val_acc: 0.119000\n",
      "(Iteration 11 / 40) loss: nan\n"
     ]
    },
    {
     "output_type": "stream",
     "name": "stderr",
     "text": [
      "/content/drive/My Drive/cs231n/git/cs231n/assignments/assignment2/cs231n/layers.py:1025: RuntimeWarning: invalid value encountered in subtract\n",
      "  shifted_logits = x - np.max(x, axis=1, keepdims=True)\n"
     ]
    },
    {
     "output_type": "stream",
     "name": "stdout",
     "text": [
      "(Epoch 6 / 20) train acc: 0.080000; val_acc: 0.087000\n",
      "(Epoch 7 / 20) train acc: 0.080000; val_acc: 0.087000\n",
      "(Epoch 8 / 20) train acc: 0.080000; val_acc: 0.087000\n",
      "(Epoch 9 / 20) train acc: 0.080000; val_acc: 0.087000\n",
      "(Epoch 10 / 20) train acc: 0.080000; val_acc: 0.087000\n",
      "(Iteration 21 / 40) loss: nan\n",
      "(Epoch 11 / 20) train acc: 0.080000; val_acc: 0.087000\n",
      "(Epoch 12 / 20) train acc: 0.080000; val_acc: 0.087000\n",
      "(Epoch 13 / 20) train acc: 0.080000; val_acc: 0.087000\n",
      "(Epoch 14 / 20) train acc: 0.080000; val_acc: 0.087000\n",
      "(Epoch 15 / 20) train acc: 0.080000; val_acc: 0.087000\n",
      "(Iteration 31 / 40) loss: nan\n",
      "(Epoch 16 / 20) train acc: 0.080000; val_acc: 0.087000\n",
      "(Epoch 17 / 20) train acc: 0.080000; val_acc: 0.087000\n",
      "(Epoch 18 / 20) train acc: 0.080000; val_acc: 0.087000\n",
      "(Epoch 19 / 20) train acc: 0.080000; val_acc: 0.087000\n",
      "(Epoch 20 / 20) train acc: 0.080000; val_acc: 0.087000\n"
     ]
    },
    {
     "output_type": "display_data",
     "data": {
      "text/plain": [
       "<Figure size 720x576 with 1 Axes>"
      ],
      "image/png": "[encoded data removed]"
     },
     "metadata": {
      "needs_background": "light"
     }
    }
   ],
   "source": [
    "# TODO: Use a five-layer Net to overfit 50 training examples by \n",
    "# tweaking just the learning rate and initialization scale.\n",
    "\n",
    "num_train = 50\n",
    "small_data = {\n",
    "  'X_train': data['X_train'][:num_train],\n",
    "  'y_train': data['y_train'][:num_train],\n",
    "  'X_val': data['X_val'],\n",
    "  'y_val': data['y_val'],\n",
    "}\n",
    "\n",
    "learning_rate = 7e-4  # Experiment with this!\n",
    "weight_scale = 2e-1   # Experiment with this!\n",
    "model = FullyConnectedNet([100, 100, 100, 100],\n",
    "                weight_scale=weight_scale, dtype=np.float64)\n",
    "solver = Solver(model, small_data,\n",
    "                print_every=10, num_epochs=20, batch_size=25,\n",
    "                update_rule='sgd',\n",
    "                optim_config={\n",
    "                  'learning_rate': learning_rate,\n",
    "                }\n",
    "         )\n",
    "solver.train()\n",
    "\n",
    "plt.plot(solver.loss_history, 'o')\n",
    "plt.title('Training loss history')\n",
    "plt.xlabel('Iteration')\n",
    "plt.ylabel('Training loss')\n",
    "plt.show()"
   ]
  },
  {
   "cell_type": "markdown",
   "metadata": {
    "tags": [
     "pdf-inline"
    ],
    "pycharm": {
     "name": "#%% md\n"
    },
    "id": "3EUc_pCn1rBR"
   },
   "source": [
    "## Inline Question 2: \n",
    "Did you notice anything about the comparative difficulty of training the three-layer net vs training the five layer net? In particular, based on your experience, which network seemed more sensitive to the initialization scale? Why do you think that is the case?\n",
    "\n",
    "## Answer:\n",
    "5-layer network is harder to initialize. It happens because weights, which were initialized with small numbers, in 3-layer will result in bigger values than in 5-layer, cause in 3-layer there is lower amount of multplies in forward pass, so resulting value is less affected by small values in weights. Same is true for high values with only difference, that high values in weights will lead to stronger growth of the result and most likely bursting gradients in 5-layer network"
   ]
  },
  {
   "cell_type": "markdown",
   "metadata": {
    "pycharm": {
     "name": "#%% md\n"
    },
    "id": "W0h1LEeS1rBR"
   },
   "source": [
    "# Update rules\n",
    "So far we have used vanilla stochastic gradient descent (SGD) as our update rule. More sophisticated update rules can make it easier to train deep networks. We will implement a few of the most commonly used update rules and compare them to vanilla SGD."
   ]
  },
  {
   "cell_type": "markdown",
   "metadata": {
    "pycharm": {
     "name": "#%% md\n"
    },
    "id": "NxaBAE_p1rBR"
   },
   "source": [
    "# SGD+Momentum\n",
    "Stochastic gradient descent with momentum is a widely used update rule that tends to make deep networks converge faster than vanilla stochastic gradient descent. See the Momentum Update section at http://cs231n.github.io/neural-networks-3/#sgd for more information.\n",
    "\n",
    "Open the file `cs231n/optim.py` and read the documentation at the top of the file to make sure you understand the API. Implement the SGD+momentum update rule in the function `sgd_momentum` and run the following to check your implementation. You should see errors less than e-8."
   ]
  },
  {
   "cell_type": "code",
   "execution_count": 108,
   "metadata": {
    "pycharm": {
     "name": "#%%\n"
    },
    "id": "0ygBm2_k1rBS",
    "colab": {
     "base_uri": "https://localhost:8080/"
    },
    "executionInfo": {
     "status": "ok",
     "timestamp": 1676111145880,
     "user_tz": -180,
     "elapsed": 236,
     "user": {
      "displayName": "Виктор Дамарад",
      "userId": "15707559666895109667"
     }
    },
    "outputId": "bcc62f72-e2b5-48cc-ca85-317d9b5c09ef"
   },
   "outputs": [
    {
     "output_type": "stream",
     "name": "stdout",
     "text": [
      "next_w error:  8.882347033505819e-09\n",
      "velocity error:  4.269287743278663e-09\n"
     ]
    }
   ],
   "source": [
    "from cs231n.optim import sgd_momentum\n",
    "\n",
    "N, D = 4, 5\n",
    "w = np.linspace(-0.4, 0.6, num=N*D).reshape(N, D)\n",
    "dw = np.linspace(-0.6, 0.4, num=N*D).reshape(N, D)\n",
    "v = np.linspace(0.6, 0.9, num=N*D).reshape(N, D)\n",
    "\n",
    "config = {'learning_rate': 1e-3, 'velocity': v}\n",
    "next_w, _ = sgd_momentum(w, dw, config=config)\n",
    "\n",
    "expected_next_w = np.asarray([\n",
    "  [ 0.1406,      0.20738947,  0.27417895,  0.34096842,  0.40775789],\n",
    "  [ 0.47454737,  0.54133684,  0.60812632,  0.67491579,  0.74170526],\n",
    "  [ 0.80849474,  0.87528421,  0.94207368,  1.00886316,  1.07565263],\n",
    "  [ 1.14244211,  1.20923158,  1.27602105,  1.34281053,  1.4096    ]])\n",
    "expected_velocity = np.asarray([\n",
    "  [ 0.5406,      0.55475789,  0.56891579, 0.58307368,  0.59723158],\n",
    "  [ 0.61138947,  0.62554737,  0.63970526,  0.65386316,  0.66802105],\n",
    "  [ 0.68217895,  0.69633684,  0.71049474,  0.72465263,  0.73881053],\n",
    "  [ 0.75296842,  0.76712632,  0.78128421,  0.79544211,  0.8096    ]])\n",
    "\n",
    "# Should see relative errors around e-8 or less\n",
    "print('next_w error: ', rel_error(next_w, expected_next_w))\n",
    "print('velocity error: ', rel_error(expected_velocity, config['velocity']))"
   ]
  },
  {
   "cell_type": "markdown",
   "metadata": {
    "pycharm": {
     "name": "#%% md\n"
    },
    "id": "QP4jO3fG1rBS"
   },
   "source": [
    "Once you have done so, run the following to train a six-layer network with both SGD and SGD+momentum. You should see the SGD+momentum update rule converge faster."
   ]
  },
  {
   "cell_type": "code",
   "execution_count": 109,
   "metadata": {
    "scrolled": false,
    "pycharm": {
     "name": "#%%\n"
    },
    "id": "9Vwxx7nT1rBS",
    "colab": {
     "base_uri": "https://localhost:8080/",
     "height": 1000
    },
    "executionInfo": {
     "status": "ok",
     "timestamp": 1676111152444,
     "user_tz": -180,
     "elapsed": 4719,
     "user": {
      "displayName": "Виктор Дамарад",
      "userId": "15707559666895109667"
     }
    },
    "outputId": "6e49be86-8daf-4bdd-f2be-a2103edb089c"
   },
   "outputs": [
    {
     "output_type": "stream",
     "name": "stdout",
     "text": [
      "running with  sgd\n",
      "(Iteration 1 / 200) loss: 2.580342\n",
      "(Epoch 0 / 5) train acc: 0.119000; val_acc: 0.103000\n",
      "(Iteration 11 / 200) loss: 2.264752\n",
      "(Iteration 21 / 200) loss: 2.232169\n",
      "(Iteration 31 / 200) loss: 2.200279\n",
      "(Epoch 1 / 5) train acc: 0.217000; val_acc: 0.196000\n",
      "(Iteration 41 / 200) loss: 2.175552\n",
      "(Iteration 51 / 200) loss: 2.084590\n",
      "(Iteration 61 / 200) loss: 2.168374\n",
      "(Iteration 71 / 200) loss: 2.148548\n",
      "(Epoch 2 / 5) train acc: 0.280000; val_acc: 0.234000\n",
      "(Iteration 81 / 200) loss: 1.993156\n",
      "(Iteration 91 / 200) loss: 1.956142\n",
      "(Iteration 101 / 200) loss: 1.831506\n",
      "(Iteration 111 / 200) loss: 2.040918\n",
      "(Epoch 3 / 5) train acc: 0.317000; val_acc: 0.259000\n",
      "(Iteration 121 / 200) loss: 1.909677\n",
      "(Iteration 131 / 200) loss: 1.871493\n",
      "(Iteration 141 / 200) loss: 1.881435\n",
      "(Iteration 151 / 200) loss: 1.667977\n",
      "(Epoch 4 / 5) train acc: 0.326000; val_acc: 0.295000\n",
      "(Iteration 161 / 200) loss: 1.859855\n",
      "(Iteration 171 / 200) loss: 1.885398\n",
      "(Iteration 181 / 200) loss: 1.659748\n",
      "(Iteration 191 / 200) loss: 1.627870\n",
      "(Epoch 5 / 5) train acc: 0.355000; val_acc: 0.309000\n",
      "\n",
      "running with  sgd_momentum\n",
      "(Iteration 1 / 200) loss: 2.862573\n",
      "(Epoch 0 / 5) train acc: 0.121000; val_acc: 0.113000\n",
      "(Iteration 11 / 200) loss: 2.257283\n",
      "(Iteration 21 / 200) loss: 1.958181\n",
      "(Iteration 31 / 200) loss: 2.000274\n",
      "(Epoch 1 / 5) train acc: 0.338000; val_acc: 0.274000\n",
      "(Iteration 41 / 200) loss: 2.022705\n",
      "(Iteration 51 / 200) loss: 1.977345\n",
      "(Iteration 61 / 200) loss: 1.970371\n",
      "(Iteration 71 / 200) loss: 1.754820\n",
      "(Epoch 2 / 5) train acc: 0.390000; val_acc: 0.287000\n",
      "(Iteration 81 / 200) loss: 1.650926\n",
      "(Iteration 91 / 200) loss: 1.624096\n",
      "(Iteration 101 / 200) loss: 1.580504\n",
      "(Iteration 111 / 200) loss: 1.746376\n",
      "(Epoch 3 / 5) train acc: 0.448000; val_acc: 0.345000\n",
      "(Iteration 121 / 200) loss: 1.478382\n",
      "(Iteration 131 / 200) loss: 1.698331\n",
      "(Iteration 141 / 200) loss: 1.328976\n",
      "(Iteration 151 / 200) loss: 1.350982\n",
      "(Epoch 4 / 5) train acc: 0.525000; val_acc: 0.327000\n",
      "(Iteration 161 / 200) loss: 1.523739\n",
      "(Iteration 171 / 200) loss: 1.289325\n",
      "(Iteration 181 / 200) loss: 1.347587\n",
      "(Iteration 191 / 200) loss: 1.357139\n",
      "(Epoch 5 / 5) train acc: 0.512000; val_acc: 0.335000\n",
      "\n"
     ]
    },
    {
     "output_type": "stream",
     "name": "stderr",
     "text": [
      "<ipython-input-109-a73acf083950>:39: MatplotlibDeprecationWarning: Adding an axes using the same arguments as a previous axes currently reuses the earlier instance.  In a future version, a new instance will always be created and returned.  Meanwhile, this warning can be suppressed, and the future behavior ensured, by passing a unique label to each axes instance.\n",
      "  plt.subplot(3, 1, 1)\n",
      "<ipython-input-109-a73acf083950>:42: MatplotlibDeprecationWarning: Adding an axes using the same arguments as a previous axes currently reuses the earlier instance.  In a future version, a new instance will always be created and returned.  Meanwhile, this warning can be suppressed, and the future behavior ensured, by passing a unique label to each axes instance.\n",
      "  plt.subplot(3, 1, 2)\n",
      "<ipython-input-109-a73acf083950>:45: MatplotlibDeprecationWarning: Adding an axes using the same arguments as a previous axes currently reuses the earlier instance.  In a future version, a new instance will always be created and returned.  Meanwhile, this warning can be suppressed, and the future behavior ensured, by passing a unique label to each axes instance.\n",
      "  plt.subplot(3, 1, 3)\n",
      "<ipython-input-109-a73acf083950>:49: MatplotlibDeprecationWarning: Adding an axes using the same arguments as a previous axes currently reuses the earlier instance.  In a future version, a new instance will always be created and returned.  Meanwhile, this warning can be suppressed, and the future behavior ensured, by passing a unique label to each axes instance.\n",
      "  plt.subplot(3, 1, i)\n"
     ]
    },
    {
     "output_type": "display_data",
     "data": {
      "text/plain": [
       "<Figure size 1080x1080 with 3 Axes>"
      ],
      "image/png": "[encoded data removed]"
     },
     "metadata": {
      "needs_background": "light"
     }
    }
   ],
   "source": [
    "num_train = 4000\n",
    "small_data = {\n",
    "  'X_train': data['X_train'][:num_train],\n",
    "  'y_train': data['y_train'][:num_train],\n",
    "  'X_val': data['X_val'],\n",
    "  'y_val': data['y_val'],\n",
    "}\n",
    "\n",
    "solvers = {}\n",
    "\n",
    "for update_rule in ['sgd', 'sgd_momentum']:\n",
    "  print('running with ', update_rule)\n",
    "  model = FullyConnectedNet([100, 100, 100, 100, 100], weight_scale=5e-2)\n",
    "\n",
    "  solver = Solver(model, small_data,\n",
    "                  num_epochs=5, batch_size=100,\n",
    "                  update_rule=update_rule,\n",
    "                  optim_config={\n",
    "                    'learning_rate': 5e-3,\n",
    "                  },\n",
    "                  verbose=True)\n",
    "  solvers[update_rule] = solver\n",
    "  solver.train()\n",
    "  print()\n",
    "\n",
    "plt.subplot(3, 1, 1)\n",
    "plt.title('Training loss')\n",
    "plt.xlabel('Iteration')\n",
    "\n",
    "plt.subplot(3, 1, 2)\n",
    "plt.title('Training accuracy')\n",
    "plt.xlabel('Epoch')\n",
    "\n",
    "plt.subplot(3, 1, 3)\n",
    "plt.title('Validation accuracy')\n",
    "plt.xlabel('Epoch')\n",
    "\n",
    "for update_rule, solver in solvers.items():\n",
    "  plt.subplot(3, 1, 1)\n",
    "  plt.plot(solver.loss_history, 'o', label=\"loss_%s\" % update_rule)\n",
    "  \n",
    "  plt.subplot(3, 1, 2)\n",
    "  plt.plot(solver.train_acc_history, '-o', label=\"train_acc_%s\" % update_rule)\n",
    "\n",
    "  plt.subplot(3, 1, 3)\n",
    "  plt.plot(solver.val_acc_history, '-o', label=\"val_acc_%s\" % update_rule)\n",
    "  \n",
    "for i in [1, 2, 3]:\n",
    "  plt.subplot(3, 1, i)\n",
    "  plt.legend(loc='upper center', ncol=4)\n",
    "plt.gcf().set_size_inches(15, 15)\n",
    "plt.show()"
   ]
  },
  {
   "cell_type": "markdown",
   "metadata": {
    "pycharm": {
     "name": "#%% md\n"
    },
    "id": "ZbIIq3Xp1rBS"
   },
   "source": [
    "# RMSProp and Adam\n",
    "RMSProp [1] and Adam [2] are update rules that set per-parameter learning rates by using a running average of the second moments of gradients.\n",
    "\n",
    "In the file `cs231n/optim.py`, implement the RMSProp update rule in the `rmsprop` function and implement the Adam update rule in the `adam` function, and check your implementations using the tests below.\n",
    "\n",
    "**NOTE:** Please implement the _complete_ Adam update rule (with the bias correction mechanism), not the first simplified version mentioned in the course notes. \n",
    "\n",
    "[1] Tijmen Tieleman and Geoffrey Hinton. \"Lecture 6.5-rmsprop: Divide the gradient by a running average of its recent magnitude.\" COURSERA: Neural Networks for Machine Learning 4 (2012).\n",
    "\n",
    "[2] Diederik Kingma and Jimmy Ba, \"Adam: A Method for Stochastic Optimization\", ICLR 2015."
   ]
  },
  {
   "cell_type": "code",
   "execution_count": 110,
   "metadata": {
    "pycharm": {
     "name": "#%%\n"
    },
    "id": "YFjJfDPQ1rBS",
    "colab": {
     "base_uri": "https://localhost:8080/"
    },
    "executionInfo": {
     "status": "ok",
     "timestamp": 1676111166273,
     "user_tz": -180,
     "elapsed": 234,
     "user": {
      "displayName": "Виктор Дамарад",
      "userId": "15707559666895109667"
     }
    },
    "outputId": "60b966e6-ed78-4d28-d1ef-599959016df7"
   },
   "outputs": [
    {
     "output_type": "stream",
     "name": "stdout",
     "text": [
      "next_w error:  9.502645229894295e-08\n",
      "cache error:  2.6477955807156126e-09\n"
     ]
    }
   ],
   "source": [
    "# Test RMSProp implementation\n",
    "from cs231n.optim import rmsprop\n",
    "\n",
    "N, D = 4, 5\n",
    "w = np.linspace(-0.4, 0.6, num=N*D).reshape(N, D)\n",
    "dw = np.linspace(-0.6, 0.4, num=N*D).reshape(N, D)\n",
    "cache = np.linspace(0.6, 0.9, num=N*D).reshape(N, D)\n",
    "\n",
    "config = {'learning_rate': 1e-2, 'cache': cache}\n",
    "next_w, _ = rmsprop(w, dw, config=config)\n",
    "\n",
    "expected_next_w = np.asarray([\n",
    "  [-0.39223849, -0.34037513, -0.28849239, -0.23659121, -0.18467247],\n",
    "  [-0.132737,   -0.08078555, -0.02881884,  0.02316247,  0.07515774],\n",
    "  [ 0.12716641,  0.17918792,  0.23122175,  0.28326742,  0.33532447],\n",
    "  [ 0.38739248,  0.43947102,  0.49155973,  0.54365823,  0.59576619]])\n",
    "expected_cache = np.asarray([\n",
    "  [ 0.5976,      0.6126277,   0.6277108,   0.64284931,  0.65804321],\n",
    "  [ 0.67329252,  0.68859723,  0.70395734,  0.71937285,  0.73484377],\n",
    "  [ 0.75037008,  0.7659518,   0.78158892,  0.79728144,  0.81302936],\n",
    "  [ 0.82883269,  0.84469141,  0.86060554,  0.87657507,  0.8926    ]])\n",
    "\n",
    "# You should see relative errors around e-7 or less\n",
    "print('next_w error: ', rel_error(expected_next_w, next_w))\n",
    "print('cache error: ', rel_error(expected_cache, config['cache']))"
   ]
  },
  {
   "cell_type": "code",
   "execution_count": 111,
   "metadata": {
    "pycharm": {
     "name": "#%%\n"
    },
    "id": "jtXyOdPt1rBS",
    "colab": {
     "base_uri": "https://localhost:8080/"
    },
    "executionInfo": {
     "status": "ok",
     "timestamp": 1676111167376,
     "user_tz": -180,
     "elapsed": 6,
     "user": {
      "displayName": "Виктор Дамарад",
      "userId": "15707559666895109667"
     }
    },
    "outputId": "d43977c9-0f0c-4339-effe-245921cb7b0f"
   },
   "outputs": [
    {
     "output_type": "stream",
     "name": "stdout",
     "text": [
      "next_w error:  1.139887467333134e-07\n",
      "v error:  4.208314038113071e-09\n",
      "m error:  4.214963193114416e-09\n"
     ]
    }
   ],
   "source": [
    "# Test Adam implementation\n",
    "from cs231n.optim import adam\n",
    "\n",
    "N, D = 4, 5\n",
    "w = np.linspace(-0.4, 0.6, num=N*D).reshape(N, D)\n",
    "dw = np.linspace(-0.6, 0.4, num=N*D).reshape(N, D)\n",
    "m = np.linspace(0.6, 0.9, num=N*D).reshape(N, D)\n",
    "v = np.linspace(0.7, 0.5, num=N*D).reshape(N, D)\n",
    "\n",
    "config = {'learning_rate': 1e-2, 'm': m, 'v': v, 't': 5}\n",
    "next_w, _ = adam(w, dw, config=config)\n",
    "\n",
    "expected_next_w = np.asarray([\n",
    "  [-0.40094747, -0.34836187, -0.29577703, -0.24319299, -0.19060977],\n",
    "  [-0.1380274,  -0.08544591, -0.03286534,  0.01971428,  0.0722929],\n",
    "  [ 0.1248705,   0.17744702,  0.23002243,  0.28259667,  0.33516969],\n",
    "  [ 0.38774145,  0.44031188,  0.49288093,  0.54544852,  0.59801459]])\n",
    "expected_v = np.asarray([\n",
    "  [ 0.69966,     0.68908382,  0.67851319,  0.66794809,  0.65738853,],\n",
    "  [ 0.64683452,  0.63628604,  0.6257431,   0.61520571,  0.60467385,],\n",
    "  [ 0.59414753,  0.58362676,  0.57311152,  0.56260183,  0.55209767,],\n",
    "  [ 0.54159906,  0.53110598,  0.52061845,  0.51013645,  0.49966,   ]])\n",
    "expected_m = np.asarray([\n",
    "  [ 0.48,        0.49947368,  0.51894737,  0.53842105,  0.55789474],\n",
    "  [ 0.57736842,  0.59684211,  0.61631579,  0.63578947,  0.65526316],\n",
    "  [ 0.67473684,  0.69421053,  0.71368421,  0.73315789,  0.75263158],\n",
    "  [ 0.77210526,  0.79157895,  0.81105263,  0.83052632,  0.85      ]])\n",
    "\n",
    "# You should see relative errors around e-7 or less\n",
    "print('next_w error: ', rel_error(expected_next_w, next_w))\n",
    "print('v error: ', rel_error(expected_v, config['v']))\n",
    "print('m error: ', rel_error(expected_m, config['m']))"
   ]
  },
  {
   "cell_type": "markdown",
   "metadata": {
    "pycharm": {
     "name": "#%% md\n"
    },
    "id": "Ebq6enmY1rBS"
   },
   "source": [
    "Once you have debugged your RMSProp and Adam implementations, run the following to train a pair of deep networks using these new update rules:"
   ]
  },
  {
   "cell_type": "code",
   "execution_count": 112,
   "metadata": {
    "pycharm": {
     "name": "#%%\n"
    },
    "id": "FhOsak5u1rBS",
    "colab": {
     "base_uri": "https://localhost:8080/",
     "height": 1000
    },
    "executionInfo": {
     "status": "ok",
     "timestamp": 1676111177723,
     "user_tz": -180,
     "elapsed": 9325,
     "user": {
      "displayName": "Виктор Дамарад",
      "userId": "15707559666895109667"
     }
    },
    "outputId": "7caad448-0bfa-4f38-8960-34f8b5b680e0"
   },
   "outputs": [
    {
     "output_type": "stream",
     "name": "stdout",
     "text": [
      "running with  adam\n",
      "(Iteration 1 / 200) loss: 3.143442\n",
      "(Epoch 0 / 5) train acc: 0.105000; val_acc: 0.092000\n",
      "(Iteration 11 / 200) loss: 2.065006\n",
      "(Iteration 21 / 200) loss: 2.075606\n",
      "(Iteration 31 / 200) loss: 2.002936\n",
      "(Epoch 1 / 5) train acc: 0.363000; val_acc: 0.317000\n",
      "(Iteration 41 / 200) loss: 1.847015\n",
      "(Iteration 51 / 200) loss: 1.498319\n",
      "(Iteration 61 / 200) loss: 1.837859\n",
      "(Iteration 71 / 200) loss: 1.560974\n",
      "(Epoch 2 / 5) train acc: 0.448000; val_acc: 0.336000\n",
      "(Iteration 81 / 200) loss: 1.594671\n",
      "(Iteration 91 / 200) loss: 1.546431\n",
      "(Iteration 101 / 200) loss: 1.463502\n",
      "(Iteration 111 / 200) loss: 1.501866\n",
      "(Epoch 3 / 5) train acc: 0.484000; val_acc: 0.341000\n",
      "(Iteration 121 / 200) loss: 1.377882\n",
      "(Iteration 131 / 200) loss: 1.427039\n",
      "(Iteration 141 / 200) loss: 1.597574\n",
      "(Iteration 151 / 200) loss: 1.368349\n",
      "(Epoch 4 / 5) train acc: 0.537000; val_acc: 0.354000\n",
      "(Iteration 161 / 200) loss: 1.483915\n",
      "(Iteration 171 / 200) loss: 1.087437\n",
      "(Iteration 181 / 200) loss: 1.195495\n",
      "(Iteration 191 / 200) loss: 1.440359\n",
      "(Epoch 5 / 5) train acc: 0.588000; val_acc: 0.358000\n",
      "\n",
      "running with  rmsprop\n",
      "(Iteration 1 / 200) loss: 2.627419\n",
      "(Epoch 0 / 5) train acc: 0.133000; val_acc: 0.124000\n",
      "(Iteration 11 / 200) loss: 2.049134\n",
      "(Iteration 21 / 200) loss: 1.968888\n",
      "(Iteration 31 / 200) loss: 1.858364\n",
      "(Epoch 1 / 5) train acc: 0.386000; val_acc: 0.331000\n",
      "(Iteration 41 / 200) loss: 1.818242\n",
      "(Iteration 51 / 200) loss: 1.802724\n",
      "(Iteration 61 / 200) loss: 1.691269\n",
      "(Iteration 71 / 200) loss: 1.734681\n",
      "(Epoch 2 / 5) train acc: 0.448000; val_acc: 0.350000\n",
      "(Iteration 81 / 200) loss: 1.546733\n",
      "(Iteration 91 / 200) loss: 1.625265\n",
      "(Iteration 101 / 200) loss: 1.521761\n",
      "(Iteration 111 / 200) loss: 1.627339\n",
      "(Epoch 3 / 5) train acc: 0.492000; val_acc: 0.363000\n",
      "(Iteration 121 / 200) loss: 1.637950\n",
      "(Iteration 131 / 200) loss: 1.385047\n",
      "(Iteration 141 / 200) loss: 1.515781\n",
      "(Iteration 151 / 200) loss: 1.558943\n",
      "(Epoch 4 / 5) train acc: 0.548000; val_acc: 0.367000\n",
      "(Iteration 161 / 200) loss: 1.484666\n",
      "(Iteration 171 / 200) loss: 1.296519\n",
      "(Iteration 181 / 200) loss: 1.522278\n",
      "(Iteration 191 / 200) loss: 1.526151\n",
      "(Epoch 5 / 5) train acc: 0.509000; val_acc: 0.364000\n",
      "\n"
     ]
    },
    {
     "output_type": "stream",
     "name": "stderr",
     "text": [
      "<ipython-input-112-c31f2247ce3b>:30: MatplotlibDeprecationWarning: Adding an axes using the same arguments as a previous axes currently reuses the earlier instance.  In a future version, a new instance will always be created and returned.  Meanwhile, this warning can be suppressed, and the future behavior ensured, by passing a unique label to each axes instance.\n",
      "  plt.subplot(3, 1, 1)\n",
      "<ipython-input-112-c31f2247ce3b>:33: MatplotlibDeprecationWarning: Adding an axes using the same arguments as a previous axes currently reuses the earlier instance.  In a future version, a new instance will always be created and returned.  Meanwhile, this warning can be suppressed, and the future behavior ensured, by passing a unique label to each axes instance.\n",
      "  plt.subplot(3, 1, 2)\n",
      "<ipython-input-112-c31f2247ce3b>:36: MatplotlibDeprecationWarning: Adding an axes using the same arguments as a previous axes currently reuses the earlier instance.  In a future version, a new instance will always be created and returned.  Meanwhile, this warning can be suppressed, and the future behavior ensured, by passing a unique label to each axes instance.\n",
      "  plt.subplot(3, 1, 3)\n",
      "<ipython-input-112-c31f2247ce3b>:40: MatplotlibDeprecationWarning: Adding an axes using the same arguments as a previous axes currently reuses the earlier instance.  In a future version, a new instance will always be created and returned.  Meanwhile, this warning can be suppressed, and the future behavior ensured, by passing a unique label to each axes instance.\n",
      "  plt.subplot(3, 1, i)\n"
     ]
    },
    {
     "output_type": "display_data",
     "data": {
      "text/plain": [
       "<Figure size 1080x1080 with 3 Axes>"
      ],
      "image/png": "[encoded data removed]"
     },
     "metadata": {
      "needs_background": "light"
     }
    }
   ],
   "source": [
    "learning_rates = {'rmsprop': 1e-4, 'adam': 1e-3}\n",
    "for update_rule in ['adam', 'rmsprop']:\n",
    "  print('running with ', update_rule)\n",
    "  model = FullyConnectedNet([100, 100, 100, 100, 100], weight_scale=5e-2)\n",
    "\n",
    "  solver = Solver(model, small_data,\n",
    "                  num_epochs=5, batch_size=100,\n",
    "                  update_rule=update_rule,\n",
    "                  optim_config={\n",
    "                    'learning_rate': learning_rates[update_rule]\n",
    "                  },\n",
    "                  verbose=True)\n",
    "  solvers[update_rule] = solver\n",
    "  solver.train()\n",
    "  print()\n",
    "\n",
    "plt.subplot(3, 1, 1)\n",
    "plt.title('Training loss')\n",
    "plt.xlabel('Iteration')\n",
    "\n",
    "plt.subplot(3, 1, 2)\n",
    "plt.title('Training accuracy')\n",
    "plt.xlabel('Epoch')\n",
    "\n",
    "plt.subplot(3, 1, 3)\n",
    "plt.title('Validation accuracy')\n",
    "plt.xlabel('Epoch')\n",
    "\n",
    "for update_rule, solver in list(solvers.items()):\n",
    "  plt.subplot(3, 1, 1)\n",
    "  plt.plot(solver.loss_history, 'o', label=update_rule)\n",
    "  \n",
    "  plt.subplot(3, 1, 2)\n",
    "  plt.plot(solver.train_acc_history, '-o', label=update_rule)\n",
    "\n",
    "  plt.subplot(3, 1, 3)\n",
    "  plt.plot(solver.val_acc_history, '-o', label=update_rule)\n",
    "  \n",
    "for i in [1, 2, 3]:\n",
    "  plt.subplot(3, 1, i)\n",
    "  plt.legend(loc='upper center', ncol=4)\n",
    "plt.gcf().set_size_inches(15, 15)\n",
    "plt.show()"
   ]
  },
  {
   "cell_type": "markdown",
   "metadata": {
    "tags": [
     "pdf-inline"
    ],
    "pycharm": {
     "name": "#%% md\n"
    },
    "id": "ZU4dIGiz1rBT"
   },
   "source": [
    "## Inline Question 3:\n",
    "\n",
    "AdaGrad, like Adam, is a per-parameter optimization method that uses the following update rule:\n",
    "\n",
    "```\n",
    "cache += dw**2\n",
    "w += - learning_rate * dw / (np.sqrt(cache) + eps)\n",
    "```\n",
    "\n",
    "John notices that when he was training a network with AdaGrad that the updates became very small, and that his network was learning slowly. Using your knowledge of the AdaGrad update rule, why do you think the updates would become very small? Would Adam have the same issue?\n",
    "\n",
    "\n",
    "## Answer: \n",
    "Cause in contrary to Adam, which uses moving average of the second momentum while training, AdaGrad simply summarizes all second momentums, which leads to infinite accumulation of denominator and, consequently, to small updates of the weights\n"
   ]
  },
  {
   "cell_type": "markdown",
   "metadata": {
    "pycharm": {
     "name": "#%% md\n"
    },
    "id": "5JHx7qx31rBT"
   },
   "source": [
    "# Train a good model!\n",
    "Train the best fully-connected model that you can on CIFAR-10, storing your best model in the `best_model` variable. We require you to get at least 50% accuracy on the validation set using a fully-connected net.\n",
    "\n",
    "If you are careful it should be possible to get accuracies above 55%, but we don't require it for this part and won't assign extra credit for doing so. Later in the assignment we will ask you to train the best convolutional network that you can on CIFAR-10, and we would prefer that you spend your effort working on convolutional nets rather than fully-connected nets.\n",
    "\n",
    "You might find it useful to complete the `BatchNormalization.ipynb` and `Dropout.ipynb` notebooks before completing this part, since those techniques can help you train powerful models."
   ]
  },
  {
   "cell_type": "code",
   "execution_count": 130,
   "metadata": {
    "scrolled": false,
    "pycharm": {
     "name": "#%%\n"
    },
    "id": "VrRlI6eE1rBT",
    "colab": {
     "base_uri": "https://localhost:8080/"
    },
    "executionInfo": {
     "status": "ok",
     "timestamp": 1676116015788,
     "user_tz": -180,
     "elapsed": 405010,
     "user": {
      "displayName": "Виктор Дамарад",
      "userId": "15707559666895109667"
     }
    },
    "outputId": "ccf136f3-fd8d-409b-d01e-6063f68c0fc1"
   },
   "outputs": [
    {
     "output_type": "stream",
     "name": "stdout",
     "text": [
      "hyper parameters set 1: \n",
      "hidden sizes: [41 59 45 50], lr: 0.00026774354995898815, weight scale: 0.024249683932004242, lr decay: 0.9707035073466979, reg: 2.1568795966664864e-05\n",
      "validation accuracy: 0.485 \n",
      "\n",
      "hyper parameters set 2: \n",
      "hidden sizes: [35 46 47 41], lr: 0.0005045606201371053, weight scale: 0.016075716714641503, lr decay: 0.9573785840974336, reg: 0.00017498116939389962\n",
      "validation accuracy: 0.48 \n",
      "\n",
      "hyper parameters set 3: \n",
      "hidden sizes: [32 58 35 36], lr: 0.0060457693460513945, weight scale: 0.00173697239166449, lr decay: 0.9507299770731731, reg: 0.00011078345974503779\n",
      "validation accuracy: 0.119 \n",
      "\n",
      "hyper parameters set 4: \n",
      "hidden sizes: [61 61 46 50], lr: 9.043374454561412e-05, weight scale: 0.0012900256338095046, lr decay: 0.9509165347787693, reg: 0.00024167442919973192\n",
      "validation accuracy: 0.113 \n",
      "\n",
      "hyper parameters set 5: \n",
      "hidden sizes: [49 54 35 56], lr: 1.7143718256284064e-05, weight scale: 0.007726078333728548, lr decay: 0.9806331357606141, reg: 0.0002262919132523003\n",
      "validation accuracy: 0.213 \n",
      "\n",
      "hyper parameters set 6: \n",
      "hidden sizes: [40 46 46 47], lr: 1.1132348701958954e-05, weight scale: 0.012004083963471664, lr decay: 0.9501584549966449, reg: 0.0002163403629972614\n",
      "validation accuracy: 0.207 \n",
      "\n",
      "hyper parameters set 7: \n",
      "hidden sizes: [43 35 37 60], lr: 3.553170047472138e-05, weight scale: 0.008765776375327045, lr decay: 0.9821790170091821, reg: 4.8058927202975016e-05\n",
      "validation accuracy: 0.296 \n",
      "\n",
      "hyper parameters set 8: \n",
      "hidden sizes: [32 48 41 62], lr: 1.0837342956875669e-05, weight scale: 0.007899786255123154, lr decay: 0.9749429677846352, reg: 2.187733322587992e-05\n",
      "validation accuracy: 0.208 \n",
      "\n",
      "hyper parameters set 9: \n",
      "hidden sizes: [38 50 34 33], lr: 0.004559276246092522, weight scale: 0.013837699323694861, lr decay: 0.9779298320062441, reg: 0.0004410351637482166\n",
      "validation accuracy: 0.426 \n",
      "\n",
      "hyper parameters set 10: \n",
      "hidden sizes: [52 46 49 52], lr: 6.684304558766977e-05, weight scale: 0.012792070516172514, lr decay: 0.9904756447598976, reg: 2.2557273137015363e-05\n",
      "validation accuracy: 0.412 \n",
      "\n",
      "hyper parameters set 11: \n",
      "hidden sizes: [62 58 63 58], lr: 0.001368045854166739, weight scale: 0.0420756012951732, lr decay: 0.9876226973554031, reg: 0.00023452735453171987\n",
      "validation accuracy: 0.509 \n",
      "\n",
      "hyper parameters set 12: \n",
      "hidden sizes: [40 35 59 43], lr: 5.4360676457733336e-05, weight scale: 0.0024875305437215165, lr decay: 0.9538368845670921, reg: 2.6702075818567258e-05\n",
      "validation accuracy: 0.12 \n",
      "\n",
      "hyper parameters set 13: \n",
      "hidden sizes: [49 37 63 53], lr: 1.5571538082849098e-05, weight scale: 0.001532173722038627, lr decay: 0.9859128204221655, reg: 1.373348601801987e-05\n",
      "validation accuracy: 0.098 \n",
      "\n",
      "hyper parameters set 14: \n",
      "hidden sizes: [58 37 52 39], lr: 0.002989694104875169, weight scale: 0.022161047461392226, lr decay: 0.9662088582307137, reg: 5.056628338569413e-05\n",
      "validation accuracy: 0.464 \n",
      "\n",
      "hyper parameters set 15: \n",
      "hidden sizes: [45 47 39 33], lr: 0.00039456632651723497, weight scale: 0.004078985482654922, lr decay: 0.9771183056465886, reg: 5.262349213250256e-06\n",
      "validation accuracy: 0.458 \n",
      "\n",
      "hyper parameters set 16: \n",
      "hidden sizes: [42 55 56 57], lr: 1.4833559013835417e-05, weight scale: 0.04186995128490647, lr decay: 0.9769770916687025, reg: 9.05177387815595e-06\n",
      "validation accuracy: 0.376 \n",
      "\n",
      "hyper parameters set 17: \n",
      "hidden sizes: [40 56 51 37], lr: 0.00505018216728306, weight scale: 0.0020374501047723606, lr decay: 0.951411908418667, reg: 6.674524498610093e-06\n",
      "validation accuracy: 0.113 \n",
      "\n",
      "hyper parameters set 18: \n",
      "hidden sizes: [50 45 37 36], lr: 6.052180380943514e-05, weight scale: 0.036186125599611506, lr decay: 0.9739213716509947, reg: 1.3241159525005678e-05\n",
      "validation accuracy: 0.445 \n",
      "\n",
      "hyper parameters set 19: \n",
      "hidden sizes: [49 32 41 62], lr: 2.9746783452712183e-05, weight scale: 0.001224029226438172, lr decay: 0.9682220478609496, reg: 0.00023671641866480886\n",
      "validation accuracy: 0.087 \n",
      "\n",
      "hyper parameters set 20: \n",
      "hidden sizes: [41 35 52 50], lr: 0.0013318960691801698, weight scale: 0.001165332227303182, lr decay: 0.9816401105119693, reg: 2.653655410928639e-06\n",
      "validation accuracy: 0.119 \n",
      "\n",
      "Training final model with hyper parameters:\n",
      "{'hidden_size': ([62, 58, 63, 58],), 'lr': 0.001368045854166739, 'weight_scale': 0.0420756012951732, 'lr_decay': 0.9876226973554031, 'reg': 0.00023452735453171987}\n",
      "(Iteration 1 / 7640) loss: 2.348046\n",
      "(Epoch 0 / 20) train acc: 0.097000; val_acc: 0.099000\n",
      "(Iteration 129 / 7640) loss: 1.632007\n",
      "(Iteration 257 / 7640) loss: 1.497622\n",
      "(Epoch 1 / 20) train acc: 0.440000; val_acc: 0.442000\n",
      "(Iteration 385 / 7640) loss: 1.679876\n",
      "(Iteration 513 / 7640) loss: 1.575846\n",
      "(Iteration 641 / 7640) loss: 1.407490\n",
      "(Epoch 2 / 20) train acc: 0.438000; val_acc: 0.436000\n",
      "(Iteration 769 / 7640) loss: 1.751404\n",
      "(Iteration 897 / 7640) loss: 1.323451\n",
      "(Iteration 1025 / 7640) loss: 1.581730\n",
      "(Epoch 3 / 20) train acc: 0.509000; val_acc: 0.477000\n",
      "(Iteration 1153 / 7640) loss: 1.395962\n",
      "(Iteration 1281 / 7640) loss: 1.340058\n",
      "(Iteration 1409 / 7640) loss: 1.601399\n",
      "(Epoch 4 / 20) train acc: 0.511000; val_acc: 0.489000\n",
      "(Iteration 1537 / 7640) loss: 1.378749\n",
      "(Iteration 1665 / 7640) loss: 1.431610\n",
      "(Iteration 1793 / 7640) loss: 1.414369\n",
      "(Epoch 5 / 20) train acc: 0.542000; val_acc: 0.478000\n",
      "(Iteration 1921 / 7640) loss: 1.446291\n",
      "(Iteration 2049 / 7640) loss: 1.187338\n",
      "(Iteration 2177 / 7640) loss: 1.385607\n",
      "(Epoch 6 / 20) train acc: 0.535000; val_acc: 0.488000\n",
      "(Iteration 2305 / 7640) loss: 1.380084\n",
      "(Iteration 2433 / 7640) loss: 1.329210\n",
      "(Iteration 2561 / 7640) loss: 1.147388\n",
      "(Epoch 7 / 20) train acc: 0.544000; val_acc: 0.484000\n",
      "(Iteration 2689 / 7640) loss: 1.302689\n",
      "(Iteration 2817 / 7640) loss: 1.291322\n",
      "(Iteration 2945 / 7640) loss: 1.228454\n",
      "(Epoch 8 / 20) train acc: 0.552000; val_acc: 0.487000\n",
      "(Iteration 3073 / 7640) loss: 1.322284\n",
      "(Iteration 3201 / 7640) loss: 1.414237\n",
      "(Iteration 3329 / 7640) loss: 1.299753\n",
      "(Epoch 9 / 20) train acc: 0.588000; val_acc: 0.505000\n",
      "(Iteration 3457 / 7640) loss: 1.229883\n",
      "(Iteration 3585 / 7640) loss: 1.207237\n",
      "(Iteration 3713 / 7640) loss: 1.134912\n",
      "(Epoch 10 / 20) train acc: 0.563000; val_acc: 0.505000\n",
      "(Iteration 3841 / 7640) loss: 1.258765\n",
      "(Iteration 3969 / 7640) loss: 1.082617\n",
      "(Iteration 4097 / 7640) loss: 1.259541\n",
      "(Epoch 11 / 20) train acc: 0.619000; val_acc: 0.505000\n",
      "(Iteration 4225 / 7640) loss: 1.273517\n",
      "(Iteration 4353 / 7640) loss: 1.076716\n",
      "(Iteration 4481 / 7640) loss: 1.128404\n",
      "(Epoch 12 / 20) train acc: 0.614000; val_acc: 0.506000\n",
      "(Iteration 4609 / 7640) loss: 1.120699\n",
      "(Iteration 4737 / 7640) loss: 1.046566\n",
      "(Iteration 4865 / 7640) loss: 1.206079\n",
      "(Epoch 13 / 20) train acc: 0.617000; val_acc: 0.519000\n",
      "(Iteration 4993 / 7640) loss: 1.075993\n",
      "(Iteration 5121 / 7640) loss: 1.243296\n",
      "(Iteration 5249 / 7640) loss: 1.274595\n",
      "(Epoch 14 / 20) train acc: 0.579000; val_acc: 0.512000\n",
      "(Iteration 5377 / 7640) loss: 1.132786\n",
      "(Iteration 5505 / 7640) loss: 1.417130\n",
      "(Iteration 5633 / 7640) loss: 0.928069\n",
      "(Epoch 15 / 20) train acc: 0.609000; val_acc: 0.510000\n",
      "(Iteration 5761 / 7640) loss: 1.067835\n",
      "(Iteration 5889 / 7640) loss: 1.074259\n",
      "(Iteration 6017 / 7640) loss: 1.178240\n",
      "(Epoch 16 / 20) train acc: 0.636000; val_acc: 0.500000\n",
      "(Iteration 6145 / 7640) loss: 1.220440\n",
      "(Iteration 6273 / 7640) loss: 1.134489\n",
      "(Iteration 6401 / 7640) loss: 1.029544\n",
      "(Epoch 17 / 20) train acc: 0.632000; val_acc: 0.510000\n",
      "(Iteration 6529 / 7640) loss: 1.012641\n",
      "(Iteration 6657 / 7640) loss: 1.138368\n",
      "(Iteration 6785 / 7640) loss: 0.934547\n",
      "(Epoch 18 / 20) train acc: 0.596000; val_acc: 0.494000\n",
      "(Iteration 6913 / 7640) loss: 0.993289\n",
      "(Iteration 7041 / 7640) loss: 0.983143\n",
      "(Iteration 7169 / 7640) loss: 1.139491\n",
      "(Epoch 19 / 20) train acc: 0.634000; val_acc: 0.487000\n",
      "(Iteration 7297 / 7640) loss: 0.986747\n",
      "(Iteration 7425 / 7640) loss: 0.767309\n",
      "(Iteration 7553 / 7640) loss: 1.061526\n",
      "(Epoch 20 / 20) train acc: 0.636000; val_acc: 0.498000\n"
     ]
    }
   ],
   "source": [
    "best_model = None\n",
    "################################################################################\n",
    "# TODO: Train the best FullyConnectedNet that you can on CIFAR-10. You might   #\n",
    "# find batch/layer normalization and dropout useful. Store your best model in  #\n",
    "# the best_model variable.                                                     #\n",
    "################################################################################\n",
    "# *****START OF YOUR CODE (DO NOT DELETE/MODIFY THIS LINE)*****\n",
    "\n",
    "num_epochs = 5\n",
    "batch_size = 128\n",
    "\n",
    "best_hyper_set = {'hidden_size': None,\n",
    "                  'lr': None,\n",
    "                  'weight_scale': None,\n",
    "                  'lr_decay': None,\n",
    "                  'reg': None}\n",
    "\n",
    "best_acc = 0.\n",
    "\n",
    "for i in range(20):\n",
    "\n",
    "    hidden_size = np.random.randint(32, 64, 4)\n",
    "    lr = 10 ** np.random.uniform(-5., -2.)\n",
    "    weight_scale = 10 ** np.random.uniform(-3., -1.)\n",
    "    lr_decay = np.random.uniform(0.95, 1.)\n",
    "    reg = 10 ** np.random.uniform(-6., -3.)\n",
    "\n",
    "    print(f\"hyper parameters set {i + 1}: \\nhidden sizes: {hidden_size}, lr: {lr}, weight scale: {weight_scale}, lr decay: {lr_decay}, reg: {reg}\")\n",
    "\n",
    "    model = FullyConnectedNet(hidden_size, weight_scale=weight_scale,  seed=42)\n",
    "    solver = Solver(model, data, update_rule = 'adam', \n",
    "                    optim_config={'learning_rate': lr}, num_epochs=num_epochs,\n",
    "                    batch_size=batch_size, lr_decay=lr_decay, verbose=False)\n",
    "    \n",
    "    solver.train()\n",
    "\n",
    "    print('validation accuracy:', solver.best_val_acc, '\\n')\n",
    "\n",
    "    if solver.best_val_acc > best_acc:\n",
    "        best_acc = solver.best_val_acc\n",
    "\n",
    "        best_hyper_set['hidden_size'] = list(hidden_size),\n",
    "        best_hyper_set['lr'] = lr\n",
    "        best_hyper_set['weight_scale'] = weight_scale\n",
    "        best_hyper_set['lr_decay'] = lr_decay\n",
    "        best_hyper_set['reg'] = reg\n",
    "\n",
    "print(f\"Training final model with hyper parameters:\\n{best_hyper_set}\")\n",
    "\n",
    "model = FullyConnectedNet(*best_hyper_set['hidden_size'], \n",
    "                            weight_scale=best_hyper_set['weight_scale'],  \n",
    "                            seed=42)\n",
    "solver = Solver(model, data, update_rule = 'adam', \n",
    "                optim_config={'learning_rate': best_hyper_set['lr']}, \n",
    "                num_epochs=20, batch_size=batch_size, \n",
    "                lr_decay=best_hyper_set['lr_decay'], verbose=True, print_every=128)\n",
    "\n",
    "solver.train()\n",
    "\n",
    "# *****END OF YOUR CODE (DO NOT DELETE/MODIFY THIS LINE)*****\n",
    "################################################################################\n",
    "#                              END OF YOUR CODE                                #\n",
    "################################################################################"
   ]
  },
  {
   "cell_type": "code",
   "source": [
    "# hidden sizes: [62 58 63 58], lr: 0.001368045854166739, weight scale: 0.0420756012951732, lr decay: 0.9876226973554031, reg: 0.00023452735453171987\n",
    "\n",
    "model = FullyConnectedNet([64, 64, 64, 64], \n",
    "                            weight_scale=4e-2,  \n",
    "                          reg = 3e-4, normalization='batchnorm',\n",
    "                            seed=42)\n",
    "solver = Solver(model, data, update_rule = 'adam', \n",
    "                optim_config={'learning_rate': 1e-3}, \n",
    "                num_epochs=20, batch_size=128, \n",
    "                lr_decay=0.99, verbose=True, print_every=128)\n",
    "\n",
    "solver.train()"
   ],
   "metadata": {
    "colab": {
     "base_uri": "https://localhost:8080/"
    },
    "id": "cT4lFAq_TZV4",
    "executionInfo": {
     "status": "ok",
     "timestamp": 1676116326402,
     "user_tz": -180,
     "elapsed": 90588,
     "user": {
      "displayName": "Виктор Дамарад",
      "userId": "15707559666895109667"
     }
    },
    "outputId": "c059ce4b-9bda-4abf-8fe8-f7a056099a46",
    "pycharm": {
     "name": "#%%\n"
    }
   },
   "execution_count": 132,
   "outputs": [
    {
     "output_type": "stream",
     "name": "stdout",
     "text": [
      "(Iteration 1 / 7640) loss: 2.436932\n",
      "(Epoch 0 / 20) train acc: 0.100000; val_acc: 0.141000\n",
      "(Iteration 129 / 7640) loss: 1.893732\n",
      "(Iteration 257 / 7640) loss: 1.782492\n",
      "(Epoch 1 / 20) train acc: 0.448000; val_acc: 0.440000\n",
      "(Iteration 385 / 7640) loss: 1.549938\n",
      "(Iteration 513 / 7640) loss: 1.658171\n",
      "(Iteration 641 / 7640) loss: 1.602329\n",
      "(Epoch 2 / 20) train acc: 0.522000; val_acc: 0.499000\n",
      "(Iteration 769 / 7640) loss: 1.544005\n",
      "(Iteration 897 / 7640) loss: 1.448798\n",
      "(Iteration 1025 / 7640) loss: 1.397328\n",
      "(Epoch 3 / 20) train acc: 0.538000; val_acc: 0.495000\n",
      "(Iteration 1153 / 7640) loss: 1.459083\n",
      "(Iteration 1281 / 7640) loss: 1.456489\n",
      "(Iteration 1409 / 7640) loss: 1.379959\n",
      "(Epoch 4 / 20) train acc: 0.547000; val_acc: 0.509000\n",
      "(Iteration 1537 / 7640) loss: 1.295992\n",
      "(Iteration 1665 / 7640) loss: 1.384140\n",
      "(Iteration 1793 / 7640) loss: 1.441604\n",
      "(Epoch 5 / 20) train acc: 0.554000; val_acc: 0.511000\n",
      "(Iteration 1921 / 7640) loss: 1.137367\n",
      "(Iteration 2049 / 7640) loss: 1.427713\n",
      "(Iteration 2177 / 7640) loss: 1.260891\n",
      "(Epoch 6 / 20) train acc: 0.585000; val_acc: 0.537000\n",
      "(Iteration 2305 / 7640) loss: 1.102137\n",
      "(Iteration 2433 / 7640) loss: 1.317112\n",
      "(Iteration 2561 / 7640) loss: 1.282874\n",
      "(Epoch 7 / 20) train acc: 0.574000; val_acc: 0.501000\n",
      "(Iteration 2689 / 7640) loss: 1.386624\n",
      "(Iteration 2817 / 7640) loss: 1.493987\n",
      "(Iteration 2945 / 7640) loss: 1.335020\n",
      "(Epoch 8 / 20) train acc: 0.608000; val_acc: 0.528000\n",
      "(Iteration 3073 / 7640) loss: 1.367654\n",
      "(Iteration 3201 / 7640) loss: 1.338592\n",
      "(Iteration 3329 / 7640) loss: 1.372972\n",
      "(Epoch 9 / 20) train acc: 0.576000; val_acc: 0.509000\n",
      "(Iteration 3457 / 7640) loss: 1.179947\n",
      "(Iteration 3585 / 7640) loss: 1.200278\n",
      "(Iteration 3713 / 7640) loss: 1.328906\n",
      "(Epoch 10 / 20) train acc: 0.574000; val_acc: 0.519000\n",
      "(Iteration 3841 / 7640) loss: 1.179355\n",
      "(Iteration 3969 / 7640) loss: 1.214979\n",
      "(Iteration 4097 / 7640) loss: 1.137309\n",
      "(Epoch 11 / 20) train acc: 0.597000; val_acc: 0.530000\n",
      "(Iteration 4225 / 7640) loss: 1.133959\n",
      "(Iteration 4353 / 7640) loss: 1.364752\n",
      "(Iteration 4481 / 7640) loss: 1.227611\n",
      "(Epoch 12 / 20) train acc: 0.625000; val_acc: 0.539000\n",
      "(Iteration 4609 / 7640) loss: 1.261073\n",
      "(Iteration 4737 / 7640) loss: 1.252116\n",
      "(Iteration 4865 / 7640) loss: 1.267404\n",
      "(Epoch 13 / 20) train acc: 0.623000; val_acc: 0.522000\n",
      "(Iteration 4993 / 7640) loss: 1.273080\n",
      "(Iteration 5121 / 7640) loss: 1.289005\n",
      "(Iteration 5249 / 7640) loss: 1.111997\n",
      "(Epoch 14 / 20) train acc: 0.664000; val_acc: 0.544000\n",
      "(Iteration 5377 / 7640) loss: 1.104411\n",
      "(Iteration 5505 / 7640) loss: 1.158203\n",
      "(Iteration 5633 / 7640) loss: 1.094656\n",
      "(Epoch 15 / 20) train acc: 0.638000; val_acc: 0.529000\n",
      "(Iteration 5761 / 7640) loss: 1.117150\n",
      "(Iteration 5889 / 7640) loss: 1.095202\n",
      "(Iteration 6017 / 7640) loss: 1.374139\n",
      "(Epoch 16 / 20) train acc: 0.648000; val_acc: 0.516000\n",
      "(Iteration 6145 / 7640) loss: 1.153876\n",
      "(Iteration 6273 / 7640) loss: 1.157912\n",
      "(Iteration 6401 / 7640) loss: 1.106206\n",
      "(Epoch 17 / 20) train acc: 0.639000; val_acc: 0.543000\n",
      "(Iteration 6529 / 7640) loss: 1.059897\n",
      "(Iteration 6657 / 7640) loss: 1.048232\n",
      "(Iteration 6785 / 7640) loss: 1.097840\n",
      "(Epoch 18 / 20) train acc: 0.645000; val_acc: 0.521000\n",
      "(Iteration 6913 / 7640) loss: 1.271205\n",
      "(Iteration 7041 / 7640) loss: 1.105292\n",
      "(Iteration 7169 / 7640) loss: 1.256005\n",
      "(Epoch 19 / 20) train acc: 0.662000; val_acc: 0.540000\n",
      "(Iteration 7297 / 7640) loss: 0.917498\n",
      "(Iteration 7425 / 7640) loss: 1.163915\n",
      "(Iteration 7553 / 7640) loss: 1.031352\n",
      "(Epoch 20 / 20) train acc: 0.677000; val_acc: 0.521000\n"
     ]
    }
   ]
  },
  {
   "cell_type": "code",
   "source": [
    "best_model = model"
   ],
   "metadata": {
    "id": "yuvYUed9UepC",
    "executionInfo": {
     "status": "ok",
     "timestamp": 1676116361961,
     "user_tz": -180,
     "elapsed": 11,
     "user": {
      "displayName": "Виктор Дамарад",
      "userId": "15707559666895109667"
     }
    },
    "pycharm": {
     "name": "#%%\n"
    }
   },
   "execution_count": 134,
   "outputs": []
  },
  {
   "cell_type": "markdown",
   "metadata": {
    "pycharm": {
     "name": "#%% md\n"
    },
    "id": "-2ScgADM1rBT"
   },
   "source": [
    "# Test your model!\n",
    "Run your best model on the validation and test sets. You should achieve above 50% accuracy on the validation set."
   ]
  },
  {
   "cell_type": "code",
   "execution_count": 135,
   "metadata": {
    "pycharm": {
     "name": "#%%\n"
    },
    "id": "JRGi6N1T1rBT",
    "colab": {
     "base_uri": "https://localhost:8080/"
    },
    "executionInfo": {
     "status": "ok",
     "timestamp": 1676116362588,
     "user_tz": -180,
     "elapsed": 3,
     "user": {
      "displayName": "Виктор Дамарад",
      "userId": "15707559666895109667"
     }
    },
    "outputId": "7b8b8727-a110-4d7d-90bc-f56e8ce2c43d"
   },
   "outputs": [
    {
     "output_type": "stream",
     "name": "stdout",
     "text": [
      "Validation set accuracy:  0.529\n",
      "Test set accuracy:  0.51\n"
     ]
    }
   ],
   "source": [
    "y_test_pred = np.argmax(best_model.loss(data['X_test']), axis=1)\n",
    "y_val_pred = np.argmax(best_model.loss(data['X_val']), axis=1)\n",
    "print('Validation set accuracy: ', (y_val_pred == data['y_val']).mean())\n",
    "print('Test set accuracy: ', (y_test_pred == data['y_test']).mean())"
   ]
  },
  {
   "cell_type": "code",
   "source": [],
   "metadata": {
    "id": "mqqXrxECUc1C",
    "pycharm": {
     "name": "#%%\n"
    }
   },
   "execution_count": null,
   "outputs": []
  }
 ],
 "metadata": {
  "colab": {
   "provenance": []
  },
  "language_info": {
   "name": "python"
  },
  "kernelspec": {
   "name": "python3",
   "display_name": "Python 3"
  },
  "gpuClass": "standard"
 },
 "nbformat": 4,
 "nbformat_minor": 0
}