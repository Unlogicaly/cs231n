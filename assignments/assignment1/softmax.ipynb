{
 "nbformat": 4,
 "nbformat_minor": 0,
 "metadata": {
  "colab": {
   "name": "softmax.ipynb",
   "provenance": [],
   "collapsed_sections": [],
   "toc_visible": true
  },
  "language_info": {
   "name": "python"
  },
  "kernelspec": {
   "name": "python3",
   "display_name": "Python 3"
  },
  "widgets": {
   "application/vnd.jupyter.widget-state+json": {
    "a1bea9de2b414b2cb8555e797805f6f1": {
     "model_module": "@jupyter-widgets/controls",
     "model_name": "HBoxModel",
     "state": {
      "_view_name": "HBoxView",
      "_dom_classes": [],
      "_model_name": "HBoxModel",
      "_view_module": "@jupyter-widgets/controls",
      "_model_module_version": "1.5.0",
      "_view_count": null,
      "_view_module_version": "1.5.0",
      "box_style": "",
      "layout": "IPY_MODEL_2d28461a1d48494689096009ff53eca8",
      "_model_module": "@jupyter-widgets/controls",
      "children": [
       "IPY_MODEL_06725c8b22864ff78b56c3535a5b1800",
       "IPY_MODEL_3555c094a32b4284b4075edb5bafbc6b"
      ]
     }
    },
    "2d28461a1d48494689096009ff53eca8": {
     "model_module": "@jupyter-widgets/base",
     "model_name": "LayoutModel",
     "state": {
      "_view_name": "LayoutView",
      "grid_template_rows": null,
      "right": null,
      "justify_content": null,
      "_view_module": "@jupyter-widgets/base",
      "overflow": null,
      "_model_module_version": "1.2.0",
      "_view_count": null,
      "flex_flow": null,
      "width": null,
      "min_width": null,
      "border": null,
      "align_items": null,
      "bottom": null,
      "_model_module": "@jupyter-widgets/base",
      "top": null,
      "grid_column": null,
      "overflow_y": null,
      "overflow_x": null,
      "grid_auto_flow": null,
      "grid_area": null,
      "grid_template_columns": null,
      "flex": null,
      "_model_name": "LayoutModel",
      "justify_items": null,
      "grid_row": null,
      "max_height": null,
      "align_content": null,
      "visibility": null,
      "align_self": null,
      "height": null,
      "min_height": null,
      "padding": null,
      "grid_auto_rows": null,
      "grid_gap": null,
      "max_width": null,
      "order": null,
      "_view_module_version": "1.2.0",
      "grid_template_areas": null,
      "object_position": null,
      "object_fit": null,
      "grid_auto_columns": null,
      "margin": null,
      "display": null,
      "left": null
     }
    },
    "06725c8b22864ff78b56c3535a5b1800": {
     "model_module": "@jupyter-widgets/controls",
     "model_name": "FloatProgressModel",
     "state": {
      "_view_name": "ProgressView",
      "style": "IPY_MODEL_547718c14ede4d159b7744dd9c33cfa4",
      "_dom_classes": [],
      "description": "100%",
      "_model_name": "FloatProgressModel",
      "bar_style": "success",
      "max": 2,
      "_view_module": "@jupyter-widgets/controls",
      "_model_module_version": "1.5.0",
      "value": 2,
      "_view_count": null,
      "_view_module_version": "1.5.0",
      "orientation": "horizontal",
      "min": 0,
      "description_tooltip": null,
      "_model_module": "@jupyter-widgets/controls",
      "layout": "IPY_MODEL_484b69712fc047f6929313dacead70af"
     }
    },
    "3555c094a32b4284b4075edb5bafbc6b": {
     "model_module": "@jupyter-widgets/controls",
     "model_name": "HTMLModel",
     "state": {
      "_view_name": "HTMLView",
      "style": "IPY_MODEL_5af2ce5ae92b4088a489bbd54d91d469",
      "_dom_classes": [],
      "description": "",
      "_model_name": "HTMLModel",
      "placeholder": "​",
      "_view_module": "@jupyter-widgets/controls",
      "_model_module_version": "1.5.0",
      "value": " 2/2 [01:05&lt;00:00, 32.72s/it]",
      "_view_count": null,
      "_view_module_version": "1.5.0",
      "description_tooltip": null,
      "_model_module": "@jupyter-widgets/controls",
      "layout": "IPY_MODEL_5233bc1b41084e9d974079f5e22452d4"
     }
    },
    "547718c14ede4d159b7744dd9c33cfa4": {
     "model_module": "@jupyter-widgets/controls",
     "model_name": "ProgressStyleModel",
     "state": {
      "_view_name": "StyleView",
      "_model_name": "ProgressStyleModel",
      "description_width": "initial",
      "_view_module": "@jupyter-widgets/base",
      "_model_module_version": "1.5.0",
      "_view_count": null,
      "_view_module_version": "1.2.0",
      "bar_color": null,
      "_model_module": "@jupyter-widgets/controls"
     }
    },
    "484b69712fc047f6929313dacead70af": {
     "model_module": "@jupyter-widgets/base",
     "model_name": "LayoutModel",
     "state": {
      "_view_name": "LayoutView",
      "grid_template_rows": null,
      "right": null,
      "justify_content": null,
      "_view_module": "@jupyter-widgets/base",
      "overflow": null,
      "_model_module_version": "1.2.0",
      "_view_count": null,
      "flex_flow": null,
      "width": null,
      "min_width": null,
      "border": null,
      "align_items": null,
      "bottom": null,
      "_model_module": "@jupyter-widgets/base",
      "top": null,
      "grid_column": null,
      "overflow_y": null,
      "overflow_x": null,
      "grid_auto_flow": null,
      "grid_area": null,
      "grid_template_columns": null,
      "flex": null,
      "_model_name": "LayoutModel",
      "justify_items": null,
      "grid_row": null,
      "max_height": null,
      "align_content": null,
      "visibility": null,
      "align_self": null,
      "height": null,
      "min_height": null,
      "padding": null,
      "grid_auto_rows": null,
      "grid_gap": null,
      "max_width": null,
      "order": null,
      "_view_module_version": "1.2.0",
      "grid_template_areas": null,
      "object_position": null,
      "object_fit": null,
      "grid_auto_columns": null,
      "margin": null,
      "display": null,
      "left": null
     }
    },
    "5af2ce5ae92b4088a489bbd54d91d469": {
     "model_module": "@jupyter-widgets/controls",
     "model_name": "DescriptionStyleModel",
     "state": {
      "_view_name": "StyleView",
      "_model_name": "DescriptionStyleModel",
      "description_width": "",
      "_view_module": "@jupyter-widgets/base",
      "_model_module_version": "1.5.0",
      "_view_count": null,
      "_view_module_version": "1.2.0",
      "_model_module": "@jupyter-widgets/controls"
     }
    },
    "5233bc1b41084e9d974079f5e22452d4": {
     "model_module": "@jupyter-widgets/base",
     "model_name": "LayoutModel",
     "state": {
      "_view_name": "LayoutView",
      "grid_template_rows": null,
      "right": null,
      "justify_content": null,
      "_view_module": "@jupyter-widgets/base",
      "overflow": null,
      "_model_module_version": "1.2.0",
      "_view_count": null,
      "flex_flow": null,
      "width": null,
      "min_width": null,
      "border": null,
      "align_items": null,
      "bottom": null,
      "_model_module": "@jupyter-widgets/base",
      "top": null,
      "grid_column": null,
      "overflow_y": null,
      "overflow_x": null,
      "grid_auto_flow": null,
      "grid_area": null,
      "grid_template_columns": null,
      "flex": null,
      "_model_name": "LayoutModel",
      "justify_items": null,
      "grid_row": null,
      "max_height": null,
      "align_content": null,
      "visibility": null,
      "align_self": null,
      "height": null,
      "min_height": null,
      "padding": null,
      "grid_auto_rows": null,
      "grid_gap": null,
      "max_width": null,
      "order": null,
      "_view_module_version": "1.2.0",
      "grid_template_areas": null,
      "object_position": null,
      "object_fit": null,
      "grid_auto_columns": null,
      "margin": null,
      "display": null,
      "left": null
     }
    }
   }
  }
 },
 "cells": [
  {
   "cell_type": "code",
   "metadata": {
    "colab": {
     "base_uri": "https://localhost:8080/"
    },
    "id": "M-8Uz9HmJYVM",
    "executionInfo": {
     "status": "ok",
     "timestamp": 1618425557919,
     "user_tz": -180,
     "elapsed": 9003,
     "user": {
      "displayName": "Виктор Александрович Дамарад",
      "photoUrl": "",
      "userId": "12511330448778770271"
     }
    },
    "outputId": "c245bd38-6882-4858-c6f5-19a11a3539cd",
    "pycharm": {
     "name": "#%%\n"
    }
   },
   "source": [
    "from google.colab import drive\n",
    " \n",
    "drive.mount('/content/drive/', force_remount=True)\n",
    " \n",
    "# enter the foldername in your Drive where you have saved the unzipped\n",
    "# 'cs231n' folder containing the '.py', 'classifiers' and 'datasets'\n",
    "# folders.\n",
    "# e.g. 'cs231n/assignments/assignment1/cs231n/'\n",
    "FOLDERNAME = \"cs231n/git/cs231n/assignments/assignment1/cs231n/\"\n",
    " \n",
    "assert FOLDERNAME is not None, \"[!] Enter the foldername.\"\n",
    " \n",
    "%cd drive/My\\ Drive\n",
    "%cp -r $FOLDERNAME ../../\n",
    "%cd ../../\n",
    "%cd cs231n/datasets/\n",
    "!bash get_datasets.sh\n",
    "%cd ../../"
   ],
   "execution_count": 5,
   "outputs": [
    {
     "output_type": "stream",
     "text": [
      "Mounted at /content/drive/\n",
      "/content/drive/My Drive\n",
      "/content\n",
      "/content/cs231n/datasets\n",
      "--2021-04-14 18:39:09--  http://www.cs.toronto.edu/~kriz/cifar-10-python.tar.gz\n",
      "Resolving www.cs.toronto.edu (www.cs.toronto.edu)... 128.100.3.30\n",
      "Connecting to www.cs.toronto.edu (www.cs.toronto.edu)|128.100.3.30|:80... connected.\n",
      "HTTP request sent, awaiting response... 200 OK\n",
      "Length: 170498071 (163M) [application/x-gzip]\n",
      "Saving to: ‘cifar-10-python.tar.gz’\n",
      "\n",
      "cifar-10-python.tar 100%[===================>] 162.60M  44.3MB/s    in 4.1s    \n",
      "\n",
      "2021-04-14 18:39:14 (39.8 MB/s) - ‘cifar-10-python.tar.gz’ saved [170498071/170498071]\n",
      "\n",
      "cifar-10-batches-py/\n",
      "cifar-10-batches-py/data_batch_4\n",
      "cifar-10-batches-py/readme.html\n",
      "cifar-10-batches-py/test_batch\n",
      "cifar-10-batches-py/data_batch_3\n",
      "cifar-10-batches-py/batches.meta\n",
      "cifar-10-batches-py/data_batch_2\n",
      "cifar-10-batches-py/data_batch_5\n",
      "cifar-10-batches-py/data_batch_1\n",
      "/content\n"
     ],
     "name": "stdout"
    }
   ]
  },
  {
   "cell_type": "markdown",
   "metadata": {
    "tags": [
     "pdf-title"
    ],
    "id": "PuSBGep2JYVT",
    "pycharm": {
     "name": "#%% md\n"
    }
   },
   "source": [
    "# Softmax exercise\n",
    "\n",
    "*Complete and hand in this completed worksheet (including its outputs and any supporting code outside of the worksheet) with your assignment submission. For more details see the [assignments page](http://vision.stanford.edu/teaching/cs231n/assignments.html) on the course website.*\n",
    "\n",
    "This exercise is analogous to the SVM exercise. You will:\n",
    "\n",
    "- implement a fully-vectorized **loss function** for the Softmax classifier\n",
    "- implement the fully-vectorized expression for its **analytic gradient**\n",
    "- **check your implementation** with numerical gradient\n",
    "- use a validation set to **tune the learning rate and regularization** strength\n",
    "- **optimize** the loss function with **SGD**\n",
    "- **visualize** the final learned weights\n"
   ]
  },
  {
   "cell_type": "code",
   "metadata": {
    "tags": [
     "pdf-ignore"
    ],
    "id": "051efphHJYVU",
    "colab": {
     "base_uri": "https://localhost:8080/"
    },
    "executionInfo": {
     "status": "ok",
     "timestamp": 1618425557920,
     "user_tz": -180,
     "elapsed": 3537,
     "user": {
      "displayName": "Виктор Александрович Дамарад",
      "photoUrl": "",
      "userId": "12511330448778770271"
     }
    },
    "outputId": "2d01b908-0b24-476b-8f8f-b2981b175237",
    "pycharm": {
     "name": "#%%\n"
    }
   },
   "source": [
    "import random\n",
    "import numpy as np\n",
    "from cs231n.data_utils import load_CIFAR10\n",
    "import matplotlib.pyplot as plt\n",
    "\n",
    "%matplotlib inline\n",
    "plt.rcParams['figure.figsize'] = (10.0, 8.0) # set default size of plots\n",
    "plt.rcParams['image.interpolation'] = 'nearest'\n",
    "plt.rcParams['image.cmap'] = 'gray'\n",
    "\n",
    "# for auto-reloading extenrnal modules\n",
    "# see http://stackoverflow.com/questions/1907993/autoreload-of-modules-in-ipython\n",
    "%load_ext autoreload\n",
    "%autoreload 2"
   ],
   "execution_count": 6,
   "outputs": [
    {
     "output_type": "stream",
     "text": [
      "The autoreload extension is already loaded. To reload it, use:\n",
      "  %reload_ext autoreload\n"
     ],
     "name": "stdout"
    }
   ]
  },
  {
   "cell_type": "code",
   "metadata": {
    "tags": [
     "pdf-ignore"
    ],
    "colab": {
     "base_uri": "https://localhost:8080/"
    },
    "id": "G0vQsnD3JYVU",
    "executionInfo": {
     "status": "ok",
     "timestamp": 1618425566331,
     "user_tz": -180,
     "elapsed": 11556,
     "user": {
      "displayName": "Виктор Александрович Дамарад",
      "photoUrl": "",
      "userId": "12511330448778770271"
     }
    },
    "outputId": "8e23c101-4e5b-4dd6-ee62-1301d84e9083",
    "pycharm": {
     "name": "#%%\n"
    }
   },
   "source": [
    "def get_CIFAR10_data(num_training=49000, num_validation=1000, num_test=1000, num_dev=500):\n",
    "    \"\"\"\n",
    "    Load the CIFAR-10 dataset from disk and perform preprocessing to prepare\n",
    "    it for the linear classifier. These are the same steps as we used for the\n",
    "    SVM, but condensed to a single function.  \n",
    "    \"\"\"\n",
    "    # Load the raw CIFAR-10 data\n",
    "    cifar10_dir = 'cs231n/datasets/cifar-10-batches-py'\n",
    "    \n",
    "    # Cleaning up variables to prevent loading data multiple times (which may cause memory issue)\n",
    "    try:\n",
    "       del X_train, y_train\n",
    "       del X_test, y_test\n",
    "       print('Clear previously loaded data.')\n",
    "    except:\n",
    "       pass\n",
    "\n",
    "    X_train, y_train, X_test, y_test = load_CIFAR10(cifar10_dir)\n",
    "    \n",
    "    # subsample the data\n",
    "    mask = list(range(num_training, num_training + num_validation))\n",
    "    X_val = X_train[mask]\n",
    "    y_val = y_train[mask]\n",
    "    mask = list(range(num_training))\n",
    "    X_train = X_train[mask]\n",
    "    y_train = y_train[mask]\n",
    "    mask = list(range(num_test))\n",
    "    X_test = X_test[mask]\n",
    "    y_test = y_test[mask]\n",
    "    mask = np.random.choice(num_training, num_dev, replace=False)\n",
    "    X_dev = X_train[mask]\n",
    "    y_dev = y_train[mask]\n",
    "    \n",
    "    # Preprocessing: reshape the image data into rows\n",
    "    X_train = np.reshape(X_train, (X_train.shape[0], -1))\n",
    "    X_val = np.reshape(X_val, (X_val.shape[0], -1))\n",
    "    X_test = np.reshape(X_test, (X_test.shape[0], -1))\n",
    "    X_dev = np.reshape(X_dev, (X_dev.shape[0], -1))\n",
    "    \n",
    "    # Normalize the data: subtract the mean image\n",
    "    mean_image = np.mean(X_train, axis = 0)\n",
    "    X_train -= mean_image\n",
    "    X_val -= mean_image\n",
    "    X_test -= mean_image\n",
    "    X_dev -= mean_image\n",
    "    \n",
    "    # add bias dimension and transform into columns\n",
    "    X_train = np.hstack([X_train, np.ones((X_train.shape[0], 1))])\n",
    "    X_val = np.hstack([X_val, np.ones((X_val.shape[0], 1))])\n",
    "    X_test = np.hstack([X_test, np.ones((X_test.shape[0], 1))])\n",
    "    X_dev = np.hstack([X_dev, np.ones((X_dev.shape[0], 1))])\n",
    "    \n",
    "    return X_train, y_train, X_val, y_val, X_test, y_test, X_dev, y_dev\n",
    "\n",
    "\n",
    "# Invoke the above function to get our data.\n",
    "X_train, y_train, X_val, y_val, X_test, y_test, X_dev, y_dev = get_CIFAR10_data()\n",
    "print('Train data shape: ', X_train.shape)\n",
    "print('Train labels shape: ', y_train.shape)\n",
    "print('Validation data shape: ', X_val.shape)\n",
    "print('Validation labels shape: ', y_val.shape)\n",
    "print('Test data shape: ', X_test.shape)\n",
    "print('Test labels shape: ', y_test.shape)\n",
    "print('dev data shape: ', X_dev.shape)\n",
    "print('dev labels shape: ', y_dev.shape)"
   ],
   "execution_count": 7,
   "outputs": [
    {
     "output_type": "stream",
     "text": [
      "Train data shape:  (49000, 3073)\n",
      "Train labels shape:  (49000,)\n",
      "Validation data shape:  (1000, 3073)\n",
      "Validation labels shape:  (1000,)\n",
      "Test data shape:  (1000, 3073)\n",
      "Test labels shape:  (1000,)\n",
      "dev data shape:  (500, 3073)\n",
      "dev labels shape:  (500,)\n"
     ],
     "name": "stdout"
    }
   ]
  },
  {
   "cell_type": "markdown",
   "metadata": {
    "id": "O2qGUWgzJYVV",
    "pycharm": {
     "name": "#%% md\n"
    }
   },
   "source": [
    "## Softmax Classifier\n",
    "\n",
    "Your code for this section will all be written inside `cs231n/classifiers/softmax.py`.\n"
   ]
  },
  {
   "cell_type": "markdown",
   "metadata": {
    "id": "SoCeOmhslTLl",
    "pycharm": {
     "name": "#%% md\n"
    }
   },
   "source": [
    "$$softmax_i=\\frac{e^{iy_i}}{\\sum_{j=1}^{C}{e^{ij}}}$$\n",
    "\n",
    "$$L_i=-ln(softmax_i)=ln(\\sum_{j=1}^C{e^{s_{ij}-s_{iy_i}}})$$\n",
    "\n",
    "$$L=\\sum_{i=1}^N{L_i}=\\sum_{i=1}^N{ln(\\sum_{j=1}^C{e^{s_{ij}-s_{iy_i}}})}=\\sum_{i=1}^N{ln(\\sum_{j=1}^C{e^{\\sum_{i=1}^D{X_{ik}(W_{kj}-W_{ky_i})}}})}$$"
   ]
  },
  {
   "cell_type": "markdown",
   "metadata": {
    "id": "9UPKLXNiWgb2",
    "pycharm": {
     "name": "#%% md\n"
    }
   },
   "source": [
    "$$\\frac{\\partial{L}}{\\partial{W}}=-\\sum_{i=1}^N{\\frac{1}{softmax_i}\\frac{\\partial}{\\partial{W}}softmax_i}$$\n",
    "\n",
    "$$\\frac{\\partial}{\\partial{W}}softmax_i=\\frac{\\partial}{\\partial{W}}\\frac{e^{S_{iy_i}}}{\\sum_{j=1}^C{e^{S_{ij}}}}=\\frac{\\frac{\\partial}{\\partial{W}}e^{S_{iy_i}} \\sum_{j=1}^C{e^{S_{ij}}} -e^{S_{iy_i}}\\sum_{j=1}^C{\\frac{\\partial}{\\partial{W}}e^{S_{ij}}}}{(\\sum_{j=1}^C{e^{S_{ij}}})^2}=\\frac{e^{S_{iy_i}}\\frac{\\partial}{\\partial{W}}S_{iy_i} \\sum_{j=1}^C{e^{S_{ij}}} -e^{S_{iy_i}}\\sum_{j=1}^C{e^{S_{ij}}\\frac{\\partial}{\\partial{W}}S_{ij}}}{(\\sum_{j=1}^C{e^{S_{ij}}})^2}$$\n",
    "\n",
    "$$\\frac{\\partial{L}}{\\partial{W}}=-\\sum_{i=1}^N{\\frac{\\sum_{j=1}^C{e^{S_{ij}}}}{e^{S_{iy_i}}}}*\\frac{e^{S_{iy_i}}\\frac{\\partial}{\\partial{W}}S_{iy_i} \\sum_{j=1}^C{e^{S_{ij}}} -e^{S_{iy_i}}\\sum_{j=1}^C{e^{S_{ij}}\\frac{\\partial}{\\partial{W}}S_{ij}}}{(\\sum_{j=1}^C{e^{S_{ij}}})^2}=-\\sum_{i=1}^N\\frac{\\frac{\\partial}{\\partial{W}}S_{iy_i} \\sum_{j=1}^C{e^{S_{ij}}} -\\sum_{j=1}^C{e^{S_{ij}}\\frac{\\partial}{\\partial{W}}S_{ij}}}{\\sum_{j=1}^C{e^{S_{ij}}}}=-\\sum_{i=1}^N{\\frac{\\sum_{j=1}^C{e^{S_{ij}}}(\\frac{\\partial}{\\partial{W}}(S_{iy_i}-S_{ij}))}{\\sum_{j=1}^C{e^{S_{ij}}}}}=\\sum_{i=1}^N{\\frac{\\sum_{j=1}^C{\\frac{\\partial}{\\partial{W}}e^{S_{ij}}}}{\\sum_{j=1}^C{e^{S_{ij}}}}}-\\sum_{i=1}^N{\\frac{\\partial}{\\partial{W}}S_{iy_i}}$$"
   ]
  },
  {
   "cell_type": "code",
   "metadata": {
    "colab": {
     "base_uri": "https://localhost:8080/"
    },
    "id": "q8dtzoxgJYVV",
    "executionInfo": {
     "status": "ok",
     "timestamp": 1618425566331,
     "user_tz": -180,
     "elapsed": 10481,
     "user": {
      "displayName": "Виктор Александрович Дамарад",
      "photoUrl": "",
      "userId": "12511330448778770271"
     }
    },
    "outputId": "75dc5079-ced4-4608-da54-19b1fb565c9e",
    "pycharm": {
     "name": "#%%\n"
    }
   },
   "source": [
    "# First implement the naive softmax loss function with nested loops.\n",
    "# Open the file cs231n/classifiers/softmax.py and implement the\n",
    "# softmax_loss_naive function.\n",
    "\n",
    "from cs231n.classifiers.softmax import softmax_loss_naive\n",
    "import time\n",
    "\n",
    "# Generate a random softmax weight matrix and use it to compute the loss.\n",
    "W = np.random.randn(3073, 10) * 0.0001\n",
    "loss, grad = softmax_loss_naive(W, X_dev, y_dev, 0.0)\n",
    "\n",
    "# As a rough sanity check, our loss should be something close to -log(0.1).\n",
    "print('loss: %f' % loss)\n",
    "print('sanity check: %f' % (-np.log(0.1)))"
   ],
   "execution_count": 8,
   "outputs": [
    {
     "output_type": "stream",
     "text": [
      "loss: 2.327060\n",
      "sanity check: 2.302585\n"
     ],
     "name": "stdout"
    }
   ]
  },
  {
   "cell_type": "markdown",
   "metadata": {
    "tags": [
     "pdf-inline"
    ],
    "id": "_zBq_qEAJYVW",
    "pycharm": {
     "name": "#%% md\n"
    }
   },
   "source": [
    "**Inline Question 1**\n",
    "\n",
    "Why do we expect our loss to be close to -log(0.1)? Explain briefly.**\n",
    "\n",
    "$\\color{blue}{\\textit Your Answer:}$ Because we have 10 classes and with weights randomly chosen at the beginning mean value of the softmax function among all vectors will be 1 / 10 = 0.1\n",
    "\n"
   ]
  },
  {
   "cell_type": "code",
   "metadata": {
    "id": "ZalQqczoJYVW",
    "colab": {
     "base_uri": "https://localhost:8080/"
    },
    "executionInfo": {
     "status": "ok",
     "timestamp": 1618425567980,
     "user_tz": -180,
     "elapsed": 11594,
     "user": {
      "displayName": "Виктор Александрович Дамарад",
      "photoUrl": "",
      "userId": "12511330448778770271"
     }
    },
    "outputId": "69bb1d41-c221-4b2c-844f-3889be78a3e3",
    "pycharm": {
     "name": "#%%\n"
    }
   },
   "source": [
    "# Complete the implementation of softmax_loss_naive and implement a (naive)\n",
    "# version of the gradient that uses nested loops.\n",
    "loss, grad = softmax_loss_naive(W, X_dev, y_dev, 0.0)\n",
    "\n",
    "# As we did for the SVM, use numeric gradient checking as a debugging tool.\n",
    "# The numeric gradient should be close to the analytic gradient.\n",
    "from cs231n.gradient_check import grad_check_sparse\n",
    "f = lambda w: softmax_loss_naive(w, X_dev, y_dev, 0.0)[0]\n",
    "grad_numerical = grad_check_sparse(f, W, grad, 10)\n",
    "\n",
    "# similar to SVM case, do another gradient check with regularization\n",
    "loss, grad = softmax_loss_naive(W, X_dev, y_dev, 5e1)\n",
    "f = lambda w: softmax_loss_naive(w, X_dev, y_dev, 5e1)[0]\n",
    "grad_numerical = grad_check_sparse(f, W, grad, 10)"
   ],
   "execution_count": 9,
   "outputs": [
    {
     "output_type": "stream",
     "text": [
      "numerical: 1.452711 analytic: 1.452711, relative error: 8.076852e-09\n",
      "numerical: 0.006126 analytic: 0.006126, relative error: 8.177407e-06\n",
      "numerical: -0.040968 analytic: -0.040968, relative error: 2.124740e-06\n",
      "numerical: 0.148401 analytic: 0.148401, relative error: 3.668083e-07\n",
      "numerical: 0.786612 analytic: 0.786612, relative error: 3.180392e-08\n",
      "numerical: -1.236116 analytic: -1.236116, relative error: 4.533244e-08\n",
      "numerical: 1.858986 analytic: 1.858986, relative error: 4.431118e-08\n",
      "numerical: 3.469238 analytic: 3.469238, relative error: 5.084326e-09\n",
      "numerical: 3.747029 analytic: 3.747029, relative error: 2.470645e-09\n",
      "numerical: -1.015991 analytic: -1.015991, relative error: 9.282282e-09\n",
      "numerical: -0.285179 analytic: -0.285179, relative error: 1.122996e-07\n",
      "numerical: 0.284437 analytic: 0.284437, relative error: 1.044306e-07\n",
      "numerical: -0.304330 analytic: -0.304330, relative error: 1.624579e-07\n",
      "numerical: 0.210299 analytic: 0.210299, relative error: 1.496673e-07\n",
      "numerical: -0.336492 analytic: -0.336492, relative error: 2.706471e-07\n",
      "numerical: -1.463016 analytic: -1.463016, relative error: 4.965605e-09\n",
      "numerical: -0.104317 analytic: -0.104317, relative error: 6.695102e-08\n",
      "numerical: -0.762178 analytic: -0.762178, relative error: 7.132396e-08\n",
      "numerical: -1.806402 analytic: -1.806402, relative error: 6.125699e-08\n",
      "numerical: -0.195218 analytic: -0.195218, relative error: 2.301474e-08\n"
     ],
     "name": "stdout"
    }
   ]
  },
  {
   "cell_type": "code",
   "metadata": {
    "id": "JknA7JHnJYVX",
    "colab": {
     "base_uri": "https://localhost:8080/"
    },
    "executionInfo": {
     "status": "ok",
     "timestamp": 1618425934292,
     "user_tz": -180,
     "elapsed": 591,
     "user": {
      "displayName": "Виктор Александрович Дамарад",
      "photoUrl": "",
      "userId": "12511330448778770271"
     }
    },
    "outputId": "ccab4ff3-af80-4387-e2f1-a5a39605a407",
    "pycharm": {
     "name": "#%%\n"
    }
   },
   "source": [
    "# Now that we have a naive implementation of the softmax loss function and its gradient,\n",
    "# implement a vectorized version in softmax_loss_vectorized.\n",
    "# The two versions should compute the same results, but the vectorized version should be\n",
    "# much faster.\n",
    "tic = time.time()\n",
    "loss_naive, grad_naive = softmax_loss_naive(W, X_dev, y_dev, 0.000005)\n",
    "toc = time.time()\n",
    "print('naive loss: %e computed in %fs' % (loss_naive, toc - tic))\n",
    "\n",
    "from cs231n.classifiers.softmax import softmax_loss_vectorized\n",
    "tic = time.time()\n",
    "loss_vectorized, grad_vectorized = softmax_loss_vectorized(W, X_dev, y_dev, 0.000005)\n",
    "toc = time.time()\n",
    "print('vectorized loss: %e computed in %fs' % (loss_vectorized, toc - tic))\n",
    "\n",
    "# As we did for the SVM, we use the Frobenius norm to compare the two versions\n",
    "# of the gradient.\n",
    "grad_difference = np.linalg.norm(grad_naive - grad_vectorized, ord='fro')\n",
    "print('Loss difference: %f' % np.abs(loss_naive - loss_vectorized))\n",
    "print('Gradient difference: %f' % grad_difference)"
   ],
   "execution_count": 16,
   "outputs": [
    {
     "output_type": "stream",
     "text": [
      "naive loss: 2.327060e+00 computed in 0.041560s\n",
      "vectorized loss: 2.327060e+00 computed in 0.013837s\n",
      "Loss difference: 0.000000\n",
      "Gradient difference: 0.000000\n"
     ],
     "name": "stdout"
    }
   ]
  },
  {
   "cell_type": "code",
   "metadata": {
    "id": "z0XH22JGtAfG",
    "executionInfo": {
     "status": "ok",
     "timestamp": 1618425949848,
     "user_tz": -180,
     "elapsed": 807,
     "user": {
      "displayName": "Виктор Александрович Дамарад",
      "photoUrl": "",
      "userId": "12511330448778770271"
     }
    },
    "pycharm": {
     "name": "#%%\n"
    }
   },
   "source": [
    "from tqdm import tqdm_notebook"
   ],
   "execution_count": 17,
   "outputs": []
  },
  {
   "cell_type": "code",
   "metadata": {
    "id": "tuning",
    "tags": [
     "code"
    ],
    "colab": {
     "base_uri": "https://localhost:8080/",
     "height": 285,
     "referenced_widgets": [
      "a1bea9de2b414b2cb8555e797805f6f1",
      "2d28461a1d48494689096009ff53eca8",
      "06725c8b22864ff78b56c3535a5b1800",
      "3555c094a32b4284b4075edb5bafbc6b",
      "547718c14ede4d159b7744dd9c33cfa4",
      "484b69712fc047f6929313dacead70af",
      "5af2ce5ae92b4088a489bbd54d91d469",
      "5233bc1b41084e9d974079f5e22452d4"
     ]
    },
    "executionInfo": {
     "status": "ok",
     "timestamp": 1618426901124,
     "user_tz": -180,
     "elapsed": 59556,
     "user": {
      "displayName": "Виктор Александрович Дамарад",
      "photoUrl": "",
      "userId": "12511330448778770271"
     }
    },
    "outputId": "2a7488b6-c815-4cb0-bca3-db32dd2a7371",
    "pycharm": {
     "name": "#%%\n"
    }
   },
   "source": [
    "# Use the validation set to tune hyperparameters (regularization strength and\n",
    "# learning rate). You should experiment with different ranges for the learning\n",
    "# rates and regularization strengths; if you are careful you should be able to\n",
    "# get a classification accuracy of over 0.35 on the validation set.\n",
    "\n",
    "from cs231n.classifiers import Softmax\n",
    "results = {}\n",
    "best_val = -1\n",
    "best_softmax = None\n",
    "\n",
    "################################################################################\n",
    "# TODO:                                                                        #\n",
    "# Use the validation set to set the learning rate and regularization strength. #\n",
    "# This should be identical to the validation that you did for the SVM; save    #\n",
    "# the best trained softmax classifer in best_softmax.                          #\n",
    "################################################################################\n",
    "\n",
    "# Provided as a reference. You may or may not want to change these hyperparameters\n",
    "learning_rates = [5e-7, 1e-6]\n",
    "regularization_strengths = [2.5e3, 5e3, 1e4, 2.5e4, 5e4]\n",
    "\n",
    "# *****START OF YOUR CODE (DO NOT DELETE/MODIFY THIS LINE)*****\n",
    "\n",
    "for lr in tqdm_notebook(learning_rates):\n",
    "    for rs in regularization_strengths:\n",
    "\n",
    "        model = Softmax()\n",
    "        model.train(X_train, y_train, lr, rs, 1500, 128)\n",
    "\n",
    "        y_pred_train_cur = model.predict(X_train)\n",
    "        y_pred_val_cur = model.predict(X_val)\n",
    "\n",
    "        train_accuracy_cur = np.mean(y_pred_train_cur == y_train)\n",
    "        val_accuracy_cur = np.mean(y_pred_val_cur == y_val)\n",
    "\n",
    "        if val_accuracy_cur > best_val:\n",
    "            best_val = val_accuracy_cur\n",
    "            best_softmax = model\n",
    "\n",
    "        results[(lr, rs)] = (train_accuracy_cur, val_accuracy_cur)\n",
    "\n",
    "# *****END OF YOUR CODE (DO NOT DELETE/MODIFY THIS LINE)*****\n",
    "    \n",
    "# Print out results.\n",
    "for lr, reg in sorted(results):\n",
    "    train_accuracy, val_accuracy = results[(lr, reg)]\n",
    "    print('lr %e reg %e train accuracy: %f val accuracy: %f' % (\n",
    "                lr, reg, train_accuracy, val_accuracy))\n",
    "    \n",
    "print('best validation accuracy achieved during cross-validation: %f' % best_val)"
   ],
   "execution_count": 25,
   "outputs": [
    {
     "output_type": "stream",
     "text": [
      "/usr/local/lib/python3.7/dist-packages/ipykernel_launcher.py:24: TqdmDeprecationWarning: This function will be removed in tqdm==5.0.0\n",
      "Please use `tqdm.notebook.tqdm` instead of `tqdm.tqdm_notebook`\n"
     ],
     "name": "stderr"
    },
    {
     "output_type": "display_data",
     "data": {
      "application/vnd.jupyter.widget-view+json": {
       "model_id": "a1bea9de2b414b2cb8555e797805f6f1",
       "version_minor": 0,
       "version_major": 2
      },
      "text/plain": [
       "HBox(children=(FloatProgress(value=0.0, max=2.0), HTML(value='')))"
      ]
     },
     "metadata": {
      "tags": []
     }
    },
    {
     "output_type": "stream",
     "text": [
      "\n",
      "lr 5.000000e-07 reg 2.500000e+03 train accuracy: 0.382939 val accuracy: 0.395000\n",
      "lr 5.000000e-07 reg 5.000000e+03 train accuracy: 0.373857 val accuracy: 0.379000\n",
      "lr 5.000000e-07 reg 1.000000e+04 train accuracy: 0.347469 val accuracy: 0.355000\n",
      "lr 5.000000e-07 reg 2.500000e+04 train accuracy: 0.326388 val accuracy: 0.335000\n",
      "lr 5.000000e-07 reg 5.000000e+04 train accuracy: 0.299122 val accuracy: 0.304000\n",
      "lr 1.000000e-06 reg 2.500000e+03 train accuracy: 0.383755 val accuracy: 0.396000\n",
      "lr 1.000000e-06 reg 5.000000e+03 train accuracy: 0.356571 val accuracy: 0.362000\n",
      "lr 1.000000e-06 reg 1.000000e+04 train accuracy: 0.343898 val accuracy: 0.369000\n",
      "lr 1.000000e-06 reg 2.500000e+04 train accuracy: 0.310878 val accuracy: 0.319000\n",
      "lr 1.000000e-06 reg 5.000000e+04 train accuracy: 0.284204 val accuracy: 0.289000\n",
      "best validation accuracy achieved during cross-validation: 0.396000\n"
     ],
     "name": "stdout"
    }
   ]
  },
  {
   "cell_type": "code",
   "metadata": {
    "id": "test",
    "colab": {
     "base_uri": "https://localhost:8080/"
    },
    "executionInfo": {
     "status": "ok",
     "timestamp": 1618426905834,
     "user_tz": -180,
     "elapsed": 608,
     "user": {
      "displayName": "Виктор Александрович Дамарад",
      "photoUrl": "",
      "userId": "12511330448778770271"
     }
    },
    "outputId": "6f29b84b-5517-4e31-9c3f-dfd1342dc7ec",
    "pycharm": {
     "name": "#%%\n"
    }
   },
   "source": [
    "# evaluate on test set\n",
    "# Evaluate the best softmax on test set\n",
    "y_test_pred = best_softmax.predict(X_test)\n",
    "test_accuracy = np.mean(y_test == y_test_pred)\n",
    "print('softmax on raw pixels final test set accuracy: %f' % (test_accuracy, ))"
   ],
   "execution_count": 26,
   "outputs": [
    {
     "output_type": "stream",
     "text": [
      "softmax on raw pixels final test set accuracy: 0.382000\n"
     ],
     "name": "stdout"
    }
   ]
  },
  {
   "cell_type": "markdown",
   "metadata": {
    "tags": [
     "pdf-inline"
    ],
    "id": "GWxIahLwJYVY",
    "pycharm": {
     "name": "#%% md\n"
    }
   },
   "source": [
    "**Inline Question 2** - *True or False*\n",
    "\n",
    "Suppose the overall training loss is defined as the sum of the per-datapoint loss over all training examples. It is possible to add a new datapoint to a training set that would leave the SVM loss unchanged, but this is not the case with the Softmax classifier loss.\n",
    "\n",
    "$\\color{blue}{\\textit Your Answer:}$ True\n",
    "\n",
    "\n",
    "$\\color{blue}{\\textit Your Explanation:}$ As far as SVM loss considers only those data points which scores are at least less than the right score on the certain margin (which means that some data points might not be considered at all), the softmax loss considers all the data points. So adding the data point, which predictions among all classes will be, for example, less than prediction on the right class on the defined margin, will not change the svm loss but will change the softmax loss.\n",
    "\n"
   ]
  },
  {
   "cell_type": "code",
   "metadata": {
    "id": "8isBkND9JYVY",
    "colab": {
     "base_uri": "https://localhost:8080/",
     "height": 380
    },
    "executionInfo": {
     "status": "ok",
     "timestamp": 1618426908187,
     "user_tz": -180,
     "elapsed": 1230,
     "user": {
      "displayName": "Виктор Александрович Дамарад",
      "photoUrl": "",
      "userId": "12511330448778770271"
     }
    },
    "outputId": "427996b8-583c-42e2-c57a-435db90026cf",
    "pycharm": {
     "name": "#%%\n"
    }
   },
   "source": [
    "# Visualize the learned weights for each class\n",
    "w = best_softmax.W[:-1,:] # strip out the bias\n",
    "w = w.reshape(32, 32, 3, 10)\n",
    "\n",
    "w_min, w_max = np.min(w), np.max(w)\n",
    "\n",
    "classes = ['plane', 'car', 'bird', 'cat', 'deer', 'dog', 'frog', 'horse', 'ship', 'truck']\n",
    "for i in range(10):\n",
    "    plt.subplot(2, 5, i + 1)\n",
    "    \n",
    "    # Rescale the weights to be between 0 and 255\n",
    "    wimg = 255.0 * (w[:, :, :, i].squeeze() - w_min) / (w_max - w_min)\n",
    "    plt.imshow(wimg.astype('uint8'))\n",
    "    plt.axis('off')\n",
    "    plt.title(classes[i])"
   ],
   "execution_count": 27,
   "outputs": [
    {
     "output_type": "display_data",
     "data": {
      "image/png": "[encoded data removed]",
      "text/plain": [
       "<Figure size 720x576 with 10 Axes>"
      ]
     },
     "metadata": {
      "tags": [],
      "needs_background": "light"
     }
    }
   ]
  },
  {
   "cell_type": "code",
   "metadata": {
    "id": "BoR9g-HMJYVY",
    "pycharm": {
     "name": "#%%\n"
    }
   },
   "source": [],
   "execution_count": null,
   "outputs": []
  },
  {
   "cell_type": "markdown",
   "metadata": {
    "id": "etRDH026JYVZ",
    "pycharm": {
     "name": "#%% md\n"
    }
   },
   "source": [
    "---\n",
    "# IMPORTANT\n",
    "\n",
    "This is the end of this question. Please do the following:\n",
    "\n",
    "1. Click `File -> Save` to make sure the latest checkpoint of this notebook is saved to your Drive.\n",
    "2. Execute the cell below to download the modified `.py` files back to your drive."
   ]
  },
  {
   "cell_type": "code",
   "metadata": {
    "id": "4JhVeROPJYVZ",
    "executionInfo": {
     "status": "ok",
     "timestamp": 1618427235078,
     "user_tz": -180,
     "elapsed": 684,
     "user": {
      "displayName": "Виктор Александрович Дамарад",
      "photoUrl": "",
      "userId": "12511330448778770271"
     }
    },
    "pycharm": {
     "name": "#%%\n"
    }
   },
   "source": [
    "import os\n",
    "\n",
    "FOLDER_TO_SAVE = os.path.join('drive/My Drive/', FOLDERNAME)\n",
    "FILES_TO_SAVE = ['cs231n/classifiers/softmax.py']\n",
    "\n",
    "for files in FILES_TO_SAVE:\n",
    "  with open(os.path.join(FOLDER_TO_SAVE, '/'.join(files.split('/')[1:])), 'w') as f:\n",
    "    f.write(''.join(open(files).readlines()))"
   ],
   "execution_count": 28,
   "outputs": []
  },
  {
   "cell_type": "code",
   "metadata": {
    "id": "6sm9k7b-j7Ev",
    "pycharm": {
     "name": "#%%\n"
    }
   },
   "source": [
    " "
   ],
   "execution_count": null,
   "outputs": []
  }
 ]
}